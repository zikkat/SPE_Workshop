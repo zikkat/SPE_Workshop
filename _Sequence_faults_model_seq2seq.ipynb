{
  "nbformat": 4,
  "nbformat_minor": 0,
  "metadata": {
    "colab": {
      "name": "_Sequence_faults_model_seq2seq.ipynb",
      "version": "0.3.2",
      "provenance": [],
      "toc_visible": true
    },
    "kernelspec": {
      "display_name": "Python 3",
      "language": "python",
      "name": "python3"
    },
    "accelerator": "GPU"
  },
  "cells": [
    {
      "metadata": {
        "id": "hHYhWkwC5xsw",
        "colab_type": "text"
      },
      "cell_type": "markdown",
      "source": [
        "# Introduction\n",
        "\n",
        "### About the dataset and the problem:\n",
        "\n",
        "This Dataset is from PHM 2018 data challenge: https://www.phmsociety.org/events/conference/phm/18/data-challenge\n",
        "\n",
        "The objective in the challenge is to identify equipment faults and predict Remaining Useful Life (RUL) before the next fault occurs\n",
        "\n",
        "The equipment at hand is Ion Etching Machines. The data set consists of 20 Ion Etching machines sensor data along with time of faults, there are over 1500 fault events\n",
        "\n",
        "For this notebook the dataset was reduced, after significant data engineering, to about 30% of normal operation, all fault data for 5 sensors\n",
        "\n",
        "This Notebook will demonstrate using LSTM sequence to sequence model for solving fault detection. The same method can be used to generate a RUL estimator which is outside of the scope of this notebook\n",
        "\n",
        "We will be using Keras with Tensorflow backend to build the LSTM for sequence to sequence"
      ]
    },
    {
      "metadata": {
        "id": "W-MhQj315xsy",
        "colab_type": "text"
      },
      "cell_type": "markdown",
      "source": [
        "# Gentle refresher on LSTM"
      ]
    },
    {
      "metadata": {
        "id": "lpLc_9RD5xsy",
        "colab_type": "text"
      },
      "cell_type": "markdown",
      "source": [
        "![]( images/timesequence.png)"
      ]
    },
    {
      "metadata": {
        "id": "tB0BVhYQ5xsz",
        "colab_type": "text"
      },
      "cell_type": "markdown",
      "source": [
        "**Building a vanilla LSTM network**\n",
        "```python\n",
        "model = Sequential()\n",
        "'''The input to an LSTM layer has to be 3D tensor. The default LSTM layer output is 2D '''\n",
        "model.add(LSTM(32, input_shape=(NUM_TIMESTEPS,features )))## The shape of each input sample is defined in 1st layer only\n",
        "model.add(Dense(output))\n",
        "```"
      ]
    },
    {
      "metadata": {
        "id": "HlNoyFzb5xs0",
        "colab_type": "text"
      },
      "cell_type": "markdown",
      "source": [
        "** How do we stack layers: It's all about managing input and output from one layer to another**\n",
        "\n",
        "```python\n",
        "model = Sequential()\n",
        "'''\n",
        "Input to LSTM layer has to always be 3D, since the output is by default is 2D. We need to make \n",
        "return_sequences=True in order to stack a second LSTM layer. \n",
        "This will make the output of the 1st LSTM layer return a 3D output, which can now be input to the 2nd LSTM layer\n",
        "dropout and Recurrent_dropout helps with regularizing the network and reduce overfitting. \n",
        "'''\n",
        "model.add(LSTM(32, input_shape=(NUM_TIMESTEPS,features ),dropout=0.3, recurrent_dropout=0.5,return_sequences=True))\n",
        "model.add(LSTM(64, input_shape=(NUM_TIMESTEPS,features ),dropout=0.3, recurrent_dropout=0.5))\n",
        "model.add(Dense(output))\n",
        "```"
      ]
    },
    {
      "metadata": {
        "id": "5L2OzU0u5xs1",
        "colab_type": "text"
      },
      "cell_type": "markdown",
      "source": [
        "For this particular problem we will use sequence to sequence LSTM network, the method will work in the following way:\n",
        "\n",
        "- Train a seq2seq network on Normal data (this is we're pnly using the 1st 30% of normal data)\n",
        "- This seq2seq will act as an autoencoder, the network will regenerate the input sequence\n",
        "- We use this network to regenerate the input sequence and create a re-construction error\n",
        "- We then Train a Random Forrest on the reconstruction error to classify Faulty and normal sequences"
      ]
    },
    {
      "metadata": {
        "id": "Vua0QmYt5xs2",
        "colab_type": "text"
      },
      "cell_type": "markdown",
      "source": [
        "![]( images/seq2seq.png)"
      ]
    },
    {
      "metadata": {
        "id": "H2gnl1cO7-fp",
        "colab_type": "code",
        "colab": {
          "base_uri": "https://localhost:8080/",
          "height": 136
        },
        "outputId": "897ea8a8-e965-4026-ec53-402c5b0ac1f1"
      },
      "cell_type": "code",
      "source": [
        "!apt-get install -y -qq software-properties-common python-software-properties module-init-tools\n",
        "!add-apt-repository -y ppa:alessandro-strada/ppa 2>&1 > /dev/null\n",
        "!apt-get update -qq 2>&1 > /dev/null\n",
        "!apt-get -y install -qq google-drive-ocamlfuse fuse\n",
        "from google.colab import auth\n",
        "auth.authenticate_user()\n",
        "from oauth2client.client import GoogleCredentials\n",
        "creds = GoogleCredentials.get_application_default()\n",
        "import getpass\n",
        "!google-drive-ocamlfuse -headless -id={creds.client_id} -secret={creds.client_secret} < /dev/null 2>&1 | grep URL\n",
        "vcode = getpass.getpass()\n",
        "!echo {vcode} | google-drive-ocamlfuse -headless -id={creds.client_id} -secret={creds.client_secret}"
      ],
      "execution_count": 121,
      "outputs": [
        {
          "output_type": "stream",
          "text": [
            "gpg: keybox '/tmp/tmpj9b6z_z9/pubring.gpg' created\n",
            "gpg: /tmp/tmpj9b6z_z9/trustdb.gpg: trustdb created\n",
            "gpg: key AD5F235DF639B041: public key \"Launchpad PPA for Alessandro Strada\" imported\n",
            "gpg: Total number processed: 1\n",
            "gpg:               imported: 1\n",
            "Warning: apt-key output should not be parsed (stdout is not a terminal)\n",
            "··········\n"
          ],
          "name": "stdout"
        }
      ]
    },
    {
      "metadata": {
        "id": "wyrAmDSFEUIm",
        "colab_type": "code",
        "colab": {
          "base_uri": "https://localhost:8080/",
          "height": 51
        },
        "outputId": "956c0d52-cdff-4f9a-f517-2d3f1f32c502"
      },
      "cell_type": "code",
      "source": [
        "!mkdir -p drive\n",
        "!google-drive-ocamlfuse drive"
      ],
      "execution_count": 122,
      "outputs": [
        {
          "output_type": "stream",
          "text": [
            "fuse: mountpoint is not empty\r\n",
            "fuse: if you are sure this is safe, use the 'nonempty' mount option\r\n"
          ],
          "name": "stdout"
        }
      ]
    },
    {
      "metadata": {
        "id": "FK5D3E5-5xs2",
        "colab_type": "code",
        "colab": {}
      },
      "cell_type": "code",
      "source": [
        "'''\n",
        "General libraries\n",
        "'''\n",
        "import os\n",
        "import pickle\n",
        "import pandas as pd\n",
        "import numpy as np\n",
        "import matplotlib.pyplot as plt\n",
        "%matplotlib inline\n",
        "from scipy import stats\n",
        "import itertools\n",
        "\n",
        "'''\n",
        "Scikit Learn\n",
        "'''\n",
        "\n",
        "from sklearn.preprocessing import StandardScaler\n",
        "from sklearn.metrics import confusion_matrix,accuracy_score,mean_squared_error\n",
        "from sklearn.model_selection import *\n",
        "from sklearn.externals import joblib\n",
        "from sklearn.ensemble import RandomForestClassifier\n",
        "\n",
        "'''\n",
        "Keras\n",
        "'''\n",
        "\n",
        "import keras\n",
        "from keras.preprocessing import sequence\n",
        "from keras.utils import to_categorical\n",
        "from keras.layers import LSTM, Dense, Input, TimeDistributed, Masking,RepeatVector\n",
        "from keras.models import Model, Sequential,load_model\n",
        "from keras.optimizers import RMSprop\n",
        "from keras import layers\n",
        "from keras.callbacks import EarlyStopping\n",
        "from keras import backend as K\n",
        "import tensorflow as tf;"
      ],
      "execution_count": 0,
      "outputs": []
    },
    {
      "metadata": {
        "id": "tZKuofkhMAVV",
        "colab_type": "code",
        "colab": {
          "base_uri": "https://localhost:8080/",
          "height": 51
        },
        "outputId": "1b2d6c09-ac06-463a-a7df-f823885f86f2"
      },
      "cell_type": "code",
      "source": [
        "!unzip drive/colab_notebook/lstm.zip -d colab_notebook/"
      ],
      "execution_count": 124,
      "outputs": [
        {
          "output_type": "stream",
          "text": [
            "Archive:  drive/colab_notebook/lstm.zip\n",
            "replace colab_notebook/fault.pkl? [y]es, [n]o, [A]ll, [N]one, [r]ename: ^C\n"
          ],
          "name": "stdout"
        }
      ]
    },
    {
      "metadata": {
        "id": "IYxZb9JW5xs8",
        "colab_type": "text"
      },
      "cell_type": "markdown",
      "source": [
        "### Data Preparation for sequence modeling\n",
        "\n",
        "1. Loading lists of arrays corresponding for each operation on the ion etching machines\n",
        "2. apply standard scaling\n",
        "3. create tensors from lists using Keras sequence function"
      ]
    },
    {
      "metadata": {
        "id": "mZVRor8W67Pi",
        "colab_type": "text"
      },
      "cell_type": "markdown",
      "source": [
        "# New Section"
      ]
    },
    {
      "metadata": {
        "id": "6pwZcxhp5xs9",
        "colab_type": "code",
        "colab": {}
      },
      "cell_type": "code",
      "source": [
        "def get_data():\n",
        "    filenames=['colab_notebook/train.pkl','colab_notebook/val.pkl',\n",
        "               'colab_notebook/test.pkl','colab_notebook/fault.pkl']\n",
        "    dataset=[pickle.load(open(file,'rb')) for file in filenames]\n",
        "    return dataset[0],dataset[1],dataset[2],dataset[3]"
      ],
      "execution_count": 0,
      "outputs": []
    },
    {
      "metadata": {
        "id": "hW9x1Kmb5xtB",
        "colab_type": "code",
        "colab": {}
      },
      "cell_type": "code",
      "source": [
        "train, val, test, train_flt=get_data()"
      ],
      "execution_count": 0,
      "outputs": []
    },
    {
      "metadata": {
        "id": "H8_eeFUq5xtE",
        "colab_type": "text"
      },
      "cell_type": "markdown",
      "source": [
        "**Preparing training data to apply standard scaling**"
      ]
    },
    {
      "metadata": {
        "id": "o2BmaN1K5xtF",
        "colab_type": "code",
        "colab": {}
      },
      "cell_type": "code",
      "source": [
        "train_scale=np.vstack(train)"
      ],
      "execution_count": 0,
      "outputs": []
    },
    {
      "metadata": {
        "id": "aoXhLREb5xtI",
        "colab_type": "text"
      },
      "cell_type": "markdown",
      "source": [
        "** Fitting standard scaler to training and applying it to the datasets**"
      ]
    },
    {
      "metadata": {
        "id": "f6TeocuM5xtJ",
        "colab_type": "code",
        "colab": {
          "base_uri": "https://localhost:8080/",
          "height": 34
        },
        "outputId": "225fb6c3-6d79-4bf7-98c2-4ddd6e043cc0"
      },
      "cell_type": "code",
      "source": [
        "scalerx=StandardScaler()\n",
        "scalerx.fit(train_scale)"
      ],
      "execution_count": 129,
      "outputs": [
        {
          "output_type": "execute_result",
          "data": {
            "text/plain": [
              "StandardScaler(copy=True, with_mean=True, with_std=True)"
            ]
          },
          "metadata": {
            "tags": []
          },
          "execution_count": 129
        }
      ]
    },
    {
      "metadata": {
        "id": "Q5o96p8W5xtN",
        "colab_type": "code",
        "colab": {}
      },
      "cell_type": "code",
      "source": [
        "train_norm=[scalerx.transform(train[seq]) for seq in range(len(train))]\n",
        "val_norm=[scalerx.transform(val[seq]) for seq in range(len(val))]\n",
        "test_norm=[scalerx.transform(test[seq]) for seq in range(len(test))]"
      ],
      "execution_count": 0,
      "outputs": []
    },
    {
      "metadata": {
        "id": "vOhVtlr-5xtQ",
        "colab_type": "code",
        "colab": {}
      },
      "cell_type": "code",
      "source": [
        "train_flt_norm=[scalerx.transform(train_flt[seq]) for seq in range(len(train_flt))]"
      ],
      "execution_count": 0,
      "outputs": []
    },
    {
      "metadata": {
        "id": "4BUx1dPp5xtU",
        "colab_type": "text"
      },
      "cell_type": "markdown",
      "source": [
        "** Setting sequence length to 150, this was arrived to emperically through trial and error**"
      ]
    },
    {
      "metadata": {
        "id": "q8q0H5Q15xtW",
        "colab_type": "code",
        "colab": {}
      },
      "cell_type": "code",
      "source": [
        "seq_len=150"
      ],
      "execution_count": 0,
      "outputs": []
    },
    {
      "metadata": {
        "id": "9PkxuUhl5xtb",
        "colab_type": "text"
      },
      "cell_type": "markdown",
      "source": [
        "** Transforming lists into sequences**"
      ]
    },
    {
      "metadata": {
        "id": "3AHxY-KH5xtb",
        "colab_type": "code",
        "colab": {}
      },
      "cell_type": "code",
      "source": [
        "'''\n",
        "pad_sequences function is a very versatile function. it allows us to handle cases \n",
        "of uneven sequence length by padding or truncating to a specificed length.\n",
        "Default pad value is 0, but user can apply any number or pass an impute into it\n",
        "\n",
        "'''\n",
        "train_X_norm=sequence.pad_sequences(train_norm, dtype='float32', maxlen=seq_len, padding='post',truncating='post')\n",
        "val_X_norm=sequence.pad_sequences(val_norm, dtype='float32', maxlen=seq_len, padding='post',truncating='post')\n",
        "test_X_norm=sequence.pad_sequences(test_norm, dtype='float32', maxlen=seq_len, padding='post',truncating='post')\n",
        "train_flt_nseq=sequence.pad_sequences(train_flt_norm, dtype='float32', maxlen=seq_len, padding='post',truncating='post')"
      ],
      "execution_count": 0,
      "outputs": []
    },
    {
      "metadata": {
        "id": "Gxt52yzn5xtd",
        "colab_type": "code",
        "colab": {}
      },
      "cell_type": "code",
      "source": [
        "'''\n",
        "We want our LSTM network to regenerate the input sequence. \n",
        "Therefore the Target sequence is the same as input sequence. Y=X \n",
        "\n",
        "'''\n",
        "\n",
        "train_Y = train_X_norm\n",
        "val_Y=val_X_norm\n",
        "test_Y=test_X_norm"
      ],
      "execution_count": 0,
      "outputs": []
    },
    {
      "metadata": {
        "id": "69HHAqJs5xtg",
        "colab_type": "code",
        "colab": {}
      },
      "cell_type": "code",
      "source": [
        "output=train_Y.shape[-1]"
      ],
      "execution_count": 0,
      "outputs": []
    },
    {
      "metadata": {
        "id": "ob3i21945xti",
        "colab_type": "code",
        "colab": {
          "base_uri": "https://localhost:8080/",
          "height": 34
        },
        "outputId": "1b249c3c-17c4-489d-be9d-b3a3e1edd714"
      },
      "cell_type": "code",
      "source": [
        "output"
      ],
      "execution_count": 136,
      "outputs": [
        {
          "output_type": "execute_result",
          "data": {
            "text/plain": [
              "5"
            ]
          },
          "metadata": {
            "tags": []
          },
          "execution_count": 136
        }
      ]
    },
    {
      "metadata": {
        "id": "FiIePNoh5xtn",
        "colab_type": "code",
        "colab": {}
      },
      "cell_type": "code",
      "source": [
        "seqlen_train=len(train_X_norm)\n",
        "seqlen_val=len(val_X_norm)\n",
        "seqlen_test=len(test_X_norm)"
      ],
      "execution_count": 0,
      "outputs": []
    },
    {
      "metadata": {
        "id": "K3t2lhAY5xtr",
        "colab_type": "code",
        "colab": {
          "base_uri": "https://localhost:8080/",
          "height": 34
        },
        "outputId": "8dabbb64-b300-40d5-e922-3d0e32af5ce2"
      },
      "cell_type": "code",
      "source": [
        "'''WE got our Tensors'''\n",
        "print('train X and Y',train_X_norm.shape,train_Y.shape)"
      ],
      "execution_count": 138,
      "outputs": [
        {
          "output_type": "stream",
          "text": [
            "train X and Y (11264, 150, 5) (11264, 150, 5)\n"
          ],
          "name": "stdout"
        }
      ]
    },
    {
      "metadata": {
        "id": "6vd9eXAn5xtv",
        "colab_type": "code",
        "colab": {
          "base_uri": "https://localhost:8080/",
          "height": 34
        },
        "outputId": "ed04c6a0-eab3-4a57-a453-34cea4e39e96"
      },
      "cell_type": "code",
      "source": [
        "print('val X and Y',val_X_norm.shape,val_Y.shape)"
      ],
      "execution_count": 139,
      "outputs": [
        {
          "output_type": "stream",
          "text": [
            "val X and Y (2817, 150, 5) (2817, 150, 5)\n"
          ],
          "name": "stdout"
        }
      ]
    },
    {
      "metadata": {
        "id": "GFn3n9OH5xtz",
        "colab_type": "code",
        "colab": {
          "base_uri": "https://localhost:8080/",
          "height": 34
        },
        "outputId": "9bfb86d7-f2f9-4fb6-9ca7-31ac71d80386"
      },
      "cell_type": "code",
      "source": [
        "print('test X and Y',test_X_norm.shape,test_Y.shape)"
      ],
      "execution_count": 140,
      "outputs": [
        {
          "output_type": "stream",
          "text": [
            "test X and Y (1565, 150, 5) (1565, 150, 5)\n"
          ],
          "name": "stdout"
        }
      ]
    },
    {
      "metadata": {
        "id": "HYas-R225xt4",
        "colab_type": "code",
        "colab": {}
      },
      "cell_type": "code",
      "source": [
        "K.clear_session()"
      ],
      "execution_count": 0,
      "outputs": []
    },
    {
      "metadata": {
        "id": "WenLGwdZ5xt6",
        "colab_type": "code",
        "colab": {
          "base_uri": "https://localhost:8080/",
          "height": 272
        },
        "outputId": "1bc776eb-ef61-46f5-cdcd-16fcc139bab0"
      },
      "cell_type": "code",
      "source": [
        "model = Sequential()\n",
        "'''The input to an LSTM layer has to be 3D tensor. The default LSTM layer output is 2D '''\n",
        "model.add(LSTM(200, input_shape=(train_X_norm.shape[-2],train_X_norm.shape[-1]),implementation=2))\n",
        "'''\n",
        "The repeatvector method reconstructs the output of the LSTM into 3D \n",
        "the combination of the 1st LSTM layer and repeat vector make up the encoder\n",
        "'''\n",
        "model.add(RepeatVector(train_X_norm.shape[-2])) \n",
        "'''The 2nd LSTM layer along with the timedistributed output make up the decoder '''\n",
        "model.add(LSTM(200,implementation=2,return_sequences=True))\n",
        "model.add(TimeDistributed(Dense(output)))\n",
        "model.summary()\n",
        "model.compile(optimizer='adam', loss='mean_squared_error')"
      ],
      "execution_count": 142,
      "outputs": [
        {
          "output_type": "stream",
          "text": [
            "_________________________________________________________________\n",
            "Layer (type)                 Output Shape              Param #   \n",
            "=================================================================\n",
            "lstm_1 (LSTM)                (None, 200)               164800    \n",
            "_________________________________________________________________\n",
            "repeat_vector_1 (RepeatVecto (None, 150, 200)          0         \n",
            "_________________________________________________________________\n",
            "lstm_2 (LSTM)                (None, 150, 200)          320800    \n",
            "_________________________________________________________________\n",
            "time_distributed_1 (TimeDist (None, 150, 5)            1005      \n",
            "=================================================================\n",
            "Total params: 486,605\n",
            "Trainable params: 486,605\n",
            "Non-trainable params: 0\n",
            "_________________________________________________________________\n"
          ],
          "name": "stdout"
        }
      ]
    },
    {
      "metadata": {
        "id": "8-bl0jGF5xt9",
        "colab_type": "code",
        "colab": {}
      },
      "cell_type": "code",
      "source": [
        "es=[EarlyStopping(monitor='val_loss',patience=20)]"
      ],
      "execution_count": 0,
      "outputs": []
    },
    {
      "metadata": {
        "id": "iSLVOuHx5xuB",
        "colab_type": "code",
        "colab": {},
        "outputId": "6da4e108-0f46-476a-d8f4-ad3504995cc0"
      },
      "cell_type": "code",
      "source": [
        "'''\n",
        "you can test with 10 epochs to make sure code works \n",
        "'''\n",
        "history=model.fit(train_X_norm, train_Y, batch_size=256,shuffle=True,epochs=300,validation_data=(val_X_norm,val_Y),callbacks=es)"
      ],
      "execution_count": 0,
      "outputs": [
        {
          "output_type": "stream",
          "text": [
            "Train on 11264 samples, validate on 2817 samples\n",
            "Epoch 1/300\n",
            "11264/11264 [==============================] - 14s 1ms/step - loss: 0.6081 - val_loss: 0.3923\n",
            "Epoch 2/300\n",
            "11264/11264 [==============================] - 13s 1ms/step - loss: 0.3576 - val_loss: 0.3013\n",
            "Epoch 3/300\n",
            "11264/11264 [==============================] - 14s 1ms/step - loss: 0.2493 - val_loss: 0.1897\n",
            "Epoch 4/300\n",
            "11264/11264 [==============================] - 13s 1ms/step - loss: 0.1955 - val_loss: 0.1542\n",
            "Epoch 5/300\n",
            "11264/11264 [==============================] - 13s 1ms/step - loss: 0.1597 - val_loss: 0.1388\n",
            "Epoch 6/300\n",
            "11264/11264 [==============================] - 13s 1ms/step - loss: 0.1407 - val_loss: 0.1458\n",
            "Epoch 7/300\n",
            "11264/11264 [==============================] - 13s 1ms/step - loss: 0.1299 - val_loss: 0.1031\n",
            "Epoch 8/300\n",
            "11264/11264 [==============================] - 13s 1ms/step - loss: 0.1159 - val_loss: 0.1025\n",
            "Epoch 9/300\n",
            "11264/11264 [==============================] - 13s 1ms/step - loss: 0.1135 - val_loss: 0.0893\n",
            "Epoch 10/300\n",
            "11264/11264 [==============================] - 13s 1ms/step - loss: 0.0965 - val_loss: 0.0927\n",
            "Epoch 11/300\n",
            "11264/11264 [==============================] - 13s 1ms/step - loss: 0.0959 - val_loss: 0.0718\n",
            "Epoch 12/300\n",
            "11264/11264 [==============================] - 13s 1ms/step - loss: 0.0951 - val_loss: 0.1192\n",
            "Epoch 13/300\n",
            "11264/11264 [==============================] - 13s 1ms/step - loss: 0.1078 - val_loss: 0.0834\n",
            "Epoch 14/300\n",
            "11264/11264 [==============================] - 13s 1ms/step - loss: 0.0986 - val_loss: 0.0758\n",
            "Epoch 15/300\n",
            "11264/11264 [==============================] - 13s 1ms/step - loss: 0.0884 - val_loss: 0.0729\n",
            "Epoch 16/300\n",
            "11264/11264 [==============================] - 13s 1ms/step - loss: 0.0797 - val_loss: 0.0625\n",
            "Epoch 17/300\n",
            "11264/11264 [==============================] - 13s 1ms/step - loss: 0.0782 - val_loss: 0.0853\n",
            "Epoch 18/300\n",
            "11264/11264 [==============================] - 13s 1ms/step - loss: 0.0753 - val_loss: 0.0595\n",
            "Epoch 19/300\n",
            "11264/11264 [==============================] - 13s 1ms/step - loss: 0.0767 - val_loss: 0.0692\n",
            "Epoch 20/300\n",
            "11264/11264 [==============================] - 13s 1ms/step - loss: 0.0729 - val_loss: 0.0618\n",
            "Epoch 21/300\n",
            "11264/11264 [==============================] - 13s 1ms/step - loss: 0.0666 - val_loss: 0.0626\n",
            "Epoch 22/300\n",
            "11264/11264 [==============================] - 13s 1ms/step - loss: 0.0651 - val_loss: 0.0642\n",
            "Epoch 23/300\n",
            "11264/11264 [==============================] - 13s 1ms/step - loss: 0.0670 - val_loss: 0.0595\n",
            "Epoch 24/300\n",
            "11264/11264 [==============================] - 13s 1ms/step - loss: 0.0624 - val_loss: 0.0499\n",
            "Epoch 25/300\n",
            "11264/11264 [==============================] - 13s 1ms/step - loss: 0.0690 - val_loss: 0.0654\n",
            "Epoch 26/300\n",
            "11264/11264 [==============================] - 13s 1ms/step - loss: 0.0689 - val_loss: 0.0511\n",
            "Epoch 27/300\n",
            "11264/11264 [==============================] - 13s 1ms/step - loss: 0.0585 - val_loss: 0.0657\n",
            "Epoch 28/300\n",
            "11264/11264 [==============================] - 13s 1ms/step - loss: 0.0626 - val_loss: 0.0626\n",
            "Epoch 29/300\n",
            "11264/11264 [==============================] - 13s 1ms/step - loss: 0.0679 - val_loss: 0.0490\n",
            "Epoch 30/300\n",
            "11264/11264 [==============================] - 13s 1ms/step - loss: 0.0591 - val_loss: 0.0499\n",
            "Epoch 31/300\n",
            "11264/11264 [==============================] - 13s 1ms/step - loss: 0.0564 - val_loss: 0.0477\n",
            "Epoch 32/300\n",
            "11264/11264 [==============================] - 13s 1ms/step - loss: 0.0568 - val_loss: 0.0511\n",
            "Epoch 33/300\n",
            "11264/11264 [==============================] - 13s 1ms/step - loss: 0.0571 - val_loss: 0.0582\n",
            "Epoch 34/300\n",
            "11264/11264 [==============================] - 13s 1ms/step - loss: 0.0578 - val_loss: 0.0570\n",
            "Epoch 35/300\n",
            "11264/11264 [==============================] - 13s 1ms/step - loss: 0.0557 - val_loss: 0.0538\n",
            "Epoch 36/300\n",
            "11264/11264 [==============================] - 13s 1ms/step - loss: 0.0548 - val_loss: 0.0460\n",
            "Epoch 37/300\n",
            "11264/11264 [==============================] - 13s 1ms/step - loss: 0.0480 - val_loss: 0.0545\n",
            "Epoch 38/300\n",
            "11264/11264 [==============================] - 13s 1ms/step - loss: 0.0552 - val_loss: 0.0453\n",
            "Epoch 39/300\n",
            "11264/11264 [==============================] - 13s 1ms/step - loss: 0.0508 - val_loss: 0.0406\n",
            "Epoch 40/300\n",
            "11264/11264 [==============================] - 13s 1ms/step - loss: 0.0510 - val_loss: 0.0426\n",
            "Epoch 41/300\n",
            "11264/11264 [==============================] - 13s 1ms/step - loss: 0.0499 - val_loss: 0.0444\n",
            "Epoch 42/300\n",
            "11264/11264 [==============================] - 13s 1ms/step - loss: 0.0471 - val_loss: 0.0582\n",
            "Epoch 43/300\n",
            "11264/11264 [==============================] - 13s 1ms/step - loss: 0.0451 - val_loss: 0.0351\n",
            "Epoch 44/300\n",
            "11264/11264 [==============================] - 13s 1ms/step - loss: 0.0458 - val_loss: 0.0443\n",
            "Epoch 45/300\n",
            "11264/11264 [==============================] - 13s 1ms/step - loss: 0.0478 - val_loss: 0.0508\n",
            "Epoch 46/300\n",
            "11264/11264 [==============================] - 13s 1ms/step - loss: 0.0466 - val_loss: 0.0481\n",
            "Epoch 47/300\n",
            "11264/11264 [==============================] - 13s 1ms/step - loss: 0.0445 - val_loss: 0.0362\n",
            "Epoch 48/300\n",
            "11264/11264 [==============================] - 13s 1ms/step - loss: 0.0420 - val_loss: 0.0360\n",
            "Epoch 49/300\n",
            "11264/11264 [==============================] - 13s 1ms/step - loss: 0.0443 - val_loss: 0.0380\n",
            "Epoch 50/300\n",
            "11264/11264 [==============================] - 13s 1ms/step - loss: 0.0443 - val_loss: 0.0334\n",
            "Epoch 51/300\n",
            "11264/11264 [==============================] - 13s 1ms/step - loss: 0.0436 - val_loss: 0.0324\n",
            "Epoch 52/300\n",
            "11264/11264 [==============================] - 13s 1ms/step - loss: 0.0396 - val_loss: 0.0308\n",
            "Epoch 53/300\n",
            "11264/11264 [==============================] - 13s 1ms/step - loss: 0.0419 - val_loss: 0.0399\n",
            "Epoch 54/300\n",
            "11264/11264 [==============================] - 13s 1ms/step - loss: 0.0437 - val_loss: 0.0341\n",
            "Epoch 55/300\n",
            "11264/11264 [==============================] - 13s 1ms/step - loss: 0.0452 - val_loss: 0.0388\n",
            "Epoch 56/300\n",
            "11264/11264 [==============================] - 13s 1ms/step - loss: 0.0379 - val_loss: 0.0481\n",
            "Epoch 57/300\n",
            "11264/11264 [==============================] - 13s 1ms/step - loss: 0.0393 - val_loss: 0.0317\n",
            "Epoch 58/300\n",
            "11264/11264 [==============================] - 13s 1ms/step - loss: 0.0364 - val_loss: 0.0304\n",
            "Epoch 59/300\n",
            "11264/11264 [==============================] - 13s 1ms/step - loss: 0.0385 - val_loss: 0.0314\n",
            "Epoch 60/300\n",
            "11264/11264 [==============================] - 13s 1ms/step - loss: 0.0419 - val_loss: 0.0327\n",
            "Epoch 61/300\n",
            "11264/11264 [==============================] - 13s 1ms/step - loss: 0.0353 - val_loss: 0.0268\n",
            "Epoch 62/300\n",
            "11264/11264 [==============================] - 13s 1ms/step - loss: 0.0376 - val_loss: 0.0287\n",
            "Epoch 63/300\n",
            "11264/11264 [==============================] - 13s 1ms/step - loss: 0.0408 - val_loss: 0.0356\n",
            "Epoch 64/300\n",
            "11264/11264 [==============================] - 13s 1ms/step - loss: 0.0452 - val_loss: 0.0319\n",
            "Epoch 65/300\n",
            "11264/11264 [==============================] - 13s 1ms/step - loss: 0.0453 - val_loss: 0.0381\n",
            "Epoch 66/300\n",
            "11264/11264 [==============================] - 13s 1ms/step - loss: 0.0371 - val_loss: 0.0275\n",
            "Epoch 67/300\n",
            "11264/11264 [==============================] - 13s 1ms/step - loss: 0.0376 - val_loss: 0.0297\n",
            "Epoch 68/300\n",
            "11264/11264 [==============================] - 13s 1ms/step - loss: 0.0351 - val_loss: 0.0321\n",
            "Epoch 69/300\n",
            "11264/11264 [==============================] - 13s 1ms/step - loss: 0.0372 - val_loss: 0.0313\n",
            "Epoch 70/300\n",
            "11264/11264 [==============================] - 13s 1ms/step - loss: 0.0353 - val_loss: 0.0265\n",
            "Epoch 71/300\n",
            "11264/11264 [==============================] - 13s 1ms/step - loss: 0.0329 - val_loss: 0.0346\n",
            "Epoch 72/300\n",
            "11264/11264 [==============================] - 13s 1ms/step - loss: 0.0357 - val_loss: 0.0282\n",
            "Epoch 73/300\n",
            "11264/11264 [==============================] - 13s 1ms/step - loss: 0.0339 - val_loss: 0.0266\n",
            "Epoch 74/300\n",
            "11264/11264 [==============================] - 13s 1ms/step - loss: 0.0356 - val_loss: 0.0269\n",
            "Epoch 75/300\n",
            "11264/11264 [==============================] - 13s 1ms/step - loss: 0.0303 - val_loss: 0.0242\n",
            "Epoch 76/300\n",
            "11264/11264 [==============================] - 13s 1ms/step - loss: 0.0330 - val_loss: 0.0286\n",
            "Epoch 77/300\n",
            "11264/11264 [==============================] - 13s 1ms/step - loss: 0.0328 - val_loss: 0.0251\n",
            "Epoch 78/300\n",
            "11264/11264 [==============================] - 13s 1ms/step - loss: 0.0362 - val_loss: 0.0356\n",
            "Epoch 79/300\n",
            "11264/11264 [==============================] - 13s 1ms/step - loss: 0.0310 - val_loss: 0.0227\n",
            "Epoch 80/300\n",
            "11264/11264 [==============================] - 13s 1ms/step - loss: 0.0317 - val_loss: 0.0257\n",
            "Epoch 81/300\n",
            "11264/11264 [==============================] - 13s 1ms/step - loss: 0.0398 - val_loss: 0.0358\n",
            "Epoch 82/300\n",
            "11264/11264 [==============================] - 13s 1ms/step - loss: 0.0317 - val_loss: 0.0255\n",
            "Epoch 83/300\n",
            "11264/11264 [==============================] - 13s 1ms/step - loss: 0.0356 - val_loss: 0.0319\n",
            "Epoch 84/300\n",
            "11264/11264 [==============================] - 13s 1ms/step - loss: 0.0318 - val_loss: 0.0318\n",
            "Epoch 85/300\n",
            "11264/11264 [==============================] - 13s 1ms/step - loss: 0.0316 - val_loss: 0.0239\n",
            "Epoch 86/300\n",
            "11264/11264 [==============================] - 13s 1ms/step - loss: 0.0500 - val_loss: 0.0317\n",
            "Epoch 87/300\n",
            "11264/11264 [==============================] - 13s 1ms/step - loss: 0.0319 - val_loss: 0.0249\n",
            "Epoch 88/300\n",
            "11264/11264 [==============================] - 13s 1ms/step - loss: 0.0313 - val_loss: 0.0340\n",
            "Epoch 89/300\n",
            "11264/11264 [==============================] - 13s 1ms/step - loss: 0.0298 - val_loss: 0.0229\n",
            "Epoch 90/300\n",
            "11264/11264 [==============================] - 13s 1ms/step - loss: 0.0276 - val_loss: 0.0269\n",
            "Epoch 91/300\n",
            "11264/11264 [==============================] - 13s 1ms/step - loss: 0.0299 - val_loss: 0.0289\n",
            "Epoch 92/300\n",
            "11264/11264 [==============================] - 13s 1ms/step - loss: 0.0295 - val_loss: 0.0254\n",
            "Epoch 93/300\n",
            "11264/11264 [==============================] - 13s 1ms/step - loss: 0.0316 - val_loss: 0.0250\n",
            "Epoch 94/300\n",
            "11264/11264 [==============================] - 13s 1ms/step - loss: 0.0294 - val_loss: 0.0248\n",
            "Epoch 95/300\n",
            "11264/11264 [==============================] - 13s 1ms/step - loss: 0.0301 - val_loss: 0.0231\n",
            "Epoch 96/300\n",
            "11264/11264 [==============================] - 13s 1ms/step - loss: 0.0277 - val_loss: 0.0224\n",
            "Epoch 97/300\n",
            "11264/11264 [==============================] - 13s 1ms/step - loss: 0.0299 - val_loss: 0.0286\n",
            "Epoch 98/300\n",
            "11264/11264 [==============================] - 13s 1ms/step - loss: 0.0302 - val_loss: 0.0214\n",
            "Epoch 99/300\n",
            "11264/11264 [==============================] - 13s 1ms/step - loss: 0.0329 - val_loss: 0.0250\n",
            "Epoch 100/300\n",
            "11264/11264 [==============================] - 13s 1ms/step - loss: 0.0302 - val_loss: 0.0273\n",
            "Epoch 101/300\n",
            "11264/11264 [==============================] - 13s 1ms/step - loss: 0.0279 - val_loss: 0.0199\n",
            "Epoch 102/300\n",
            "11264/11264 [==============================] - 13s 1ms/step - loss: 0.0274 - val_loss: 0.0247\n",
            "Epoch 103/300\n",
            "11264/11264 [==============================] - 13s 1ms/step - loss: 0.0325 - val_loss: 0.0218\n",
            "Epoch 104/300\n",
            "11264/11264 [==============================] - 13s 1ms/step - loss: 0.0275 - val_loss: 0.0199\n",
            "Epoch 105/300\n",
            "11264/11264 [==============================] - 13s 1ms/step - loss: 0.0612 - val_loss: 0.0502\n",
            "Epoch 106/300\n",
            "11264/11264 [==============================] - 13s 1ms/step - loss: 0.0430 - val_loss: 0.0292\n",
            "Epoch 107/300\n",
            "11264/11264 [==============================] - 13s 1ms/step - loss: 0.0378 - val_loss: 0.0376\n",
            "Epoch 108/300\n",
            "11264/11264 [==============================] - 13s 1ms/step - loss: 0.0346 - val_loss: 0.0229\n",
            "Epoch 109/300\n",
            "11264/11264 [==============================] - 13s 1ms/step - loss: 0.0328 - val_loss: 0.0219\n",
            "Epoch 110/300\n",
            "11264/11264 [==============================] - 13s 1ms/step - loss: 0.0304 - val_loss: 0.0286\n",
            "Epoch 111/300\n",
            "11264/11264 [==============================] - 13s 1ms/step - loss: 0.0315 - val_loss: 0.0269\n",
            "Epoch 112/300\n",
            "11264/11264 [==============================] - 13s 1ms/step - loss: 0.0307 - val_loss: 0.0201\n",
            "Epoch 113/300\n",
            "11264/11264 [==============================] - 13s 1ms/step - loss: 0.0292 - val_loss: 0.0233\n",
            "Epoch 114/300\n",
            "11264/11264 [==============================] - 13s 1ms/step - loss: 0.0298 - val_loss: 0.0269\n",
            "Epoch 115/300\n",
            "11264/11264 [==============================] - 13s 1ms/step - loss: 0.0329 - val_loss: 0.0415\n",
            "Epoch 116/300\n",
            "11264/11264 [==============================] - 13s 1ms/step - loss: 0.0296 - val_loss: 0.0210\n",
            "Epoch 117/300\n",
            "11264/11264 [==============================] - 13s 1ms/step - loss: 0.0302 - val_loss: 0.0234\n",
            "Epoch 118/300\n",
            "11264/11264 [==============================] - 13s 1ms/step - loss: 0.0264 - val_loss: 0.0224\n",
            "Epoch 119/300\n",
            "11264/11264 [==============================] - 13s 1ms/step - loss: 0.0274 - val_loss: 0.0299\n",
            "Epoch 120/300\n",
            "11264/11264 [==============================] - 13s 1ms/step - loss: 0.0327 - val_loss: 0.0285\n",
            "Epoch 121/300\n",
            "11264/11264 [==============================] - 13s 1ms/step - loss: 0.0262 - val_loss: 0.0200\n",
            "Epoch 122/300\n",
            "11264/11264 [==============================] - 13s 1ms/step - loss: 0.0263 - val_loss: 0.0200\n",
            "Epoch 123/300\n",
            "11264/11264 [==============================] - 13s 1ms/step - loss: 0.0247 - val_loss: 0.0203\n",
            "Epoch 124/300\n",
            "11264/11264 [==============================] - 13s 1ms/step - loss: 0.0263 - val_loss: 0.0198\n",
            "Epoch 125/300\n",
            "11264/11264 [==============================] - 13s 1ms/step - loss: 0.0262 - val_loss: 0.0237\n",
            "Epoch 126/300\n",
            "11264/11264 [==============================] - 13s 1ms/step - loss: 0.0357 - val_loss: 0.0390\n",
            "Epoch 127/300\n",
            "11264/11264 [==============================] - 13s 1ms/step - loss: 0.0287 - val_loss: 0.0171\n",
            "Epoch 128/300\n",
            "11264/11264 [==============================] - 13s 1ms/step - loss: 0.0247 - val_loss: 0.0230\n",
            "Epoch 129/300\n",
            "11264/11264 [==============================] - 13s 1ms/step - loss: 0.0258 - val_loss: 0.0196\n",
            "Epoch 130/300\n",
            "11264/11264 [==============================] - 13s 1ms/step - loss: 0.0247 - val_loss: 0.0187\n",
            "Epoch 131/300\n",
            "11264/11264 [==============================] - 13s 1ms/step - loss: 0.0227 - val_loss: 0.0180\n",
            "Epoch 132/300\n",
            "11264/11264 [==============================] - 13s 1ms/step - loss: 0.0242 - val_loss: 0.0213\n",
            "Epoch 133/300\n",
            "11264/11264 [==============================] - 13s 1ms/step - loss: 0.0247 - val_loss: 0.0195\n",
            "Epoch 134/300\n",
            "11264/11264 [==============================] - 13s 1ms/step - loss: 0.0247 - val_loss: 0.0179\n",
            "Epoch 135/300\n",
            "11264/11264 [==============================] - 13s 1ms/step - loss: 0.0257 - val_loss: 0.0396\n",
            "Epoch 136/300\n",
            "11264/11264 [==============================] - 13s 1ms/step - loss: 0.0280 - val_loss: 0.0244\n",
            "Epoch 137/300\n",
            "11264/11264 [==============================] - 13s 1ms/step - loss: 0.0226 - val_loss: 0.0164\n",
            "Epoch 138/300\n",
            "11264/11264 [==============================] - 13s 1ms/step - loss: 0.0223 - val_loss: 0.0197\n",
            "Epoch 139/300\n",
            "11264/11264 [==============================] - 13s 1ms/step - loss: 0.0225 - val_loss: 0.0189\n",
            "Epoch 140/300\n",
            "11264/11264 [==============================] - 13s 1ms/step - loss: 0.0247 - val_loss: 0.0208\n",
            "Epoch 141/300\n",
            "11264/11264 [==============================] - 13s 1ms/step - loss: 0.0234 - val_loss: 0.0214\n",
            "Epoch 142/300\n",
            "11264/11264 [==============================] - 13s 1ms/step - loss: 0.0238 - val_loss: 0.0196\n",
            "Epoch 143/300\n",
            "11264/11264 [==============================] - 13s 1ms/step - loss: 0.0232 - val_loss: 0.0214\n",
            "Epoch 144/300\n",
            "11264/11264 [==============================] - 13s 1ms/step - loss: 0.0233 - val_loss: 0.0250\n",
            "Epoch 145/300\n",
            "11264/11264 [==============================] - 13s 1ms/step - loss: 0.0281 - val_loss: 0.0263\n",
            "Epoch 146/300\n",
            "11264/11264 [==============================] - 13s 1ms/step - loss: 0.0222 - val_loss: 0.0182\n",
            "Epoch 147/300\n",
            "11264/11264 [==============================] - 13s 1ms/step - loss: 0.0213 - val_loss: 0.0160\n",
            "Epoch 148/300\n",
            "11264/11264 [==============================] - 13s 1ms/step - loss: 0.0211 - val_loss: 0.0203\n",
            "Epoch 149/300\n",
            "11264/11264 [==============================] - 13s 1ms/step - loss: 0.0233 - val_loss: 0.0215\n",
            "Epoch 150/300\n",
            "11264/11264 [==============================] - 13s 1ms/step - loss: 0.0222 - val_loss: 0.0149\n",
            "Epoch 151/300\n",
            "11264/11264 [==============================] - 13s 1ms/step - loss: 0.0214 - val_loss: 0.0157\n",
            "Epoch 152/300\n",
            "11264/11264 [==============================] - 13s 1ms/step - loss: 0.0212 - val_loss: 0.0144\n",
            "Epoch 153/300\n"
          ],
          "name": "stdout"
        },
        {
          "output_type": "stream",
          "text": [
            "11264/11264 [==============================] - 13s 1ms/step - loss: 0.0214 - val_loss: 0.0210\n",
            "Epoch 154/300\n",
            "11264/11264 [==============================] - 13s 1ms/step - loss: 0.0222 - val_loss: 0.0166\n",
            "Epoch 155/300\n",
            "11264/11264 [==============================] - 13s 1ms/step - loss: 0.0220 - val_loss: 0.0186\n",
            "Epoch 156/300\n",
            "11264/11264 [==============================] - 13s 1ms/step - loss: 0.0230 - val_loss: 0.0184\n",
            "Epoch 157/300\n",
            "11264/11264 [==============================] - 13s 1ms/step - loss: 0.0219 - val_loss: 0.0171\n",
            "Epoch 158/300\n",
            "11264/11264 [==============================] - 13s 1ms/step - loss: 0.0206 - val_loss: 0.0197\n",
            "Epoch 159/300\n",
            "11264/11264 [==============================] - 13s 1ms/step - loss: 0.0201 - val_loss: 0.0185\n",
            "Epoch 160/300\n",
            "11264/11264 [==============================] - 13s 1ms/step - loss: 0.0318 - val_loss: 0.0427\n",
            "Epoch 161/300\n",
            "11264/11264 [==============================] - 13s 1ms/step - loss: 0.0265 - val_loss: 0.0198\n",
            "Epoch 162/300\n",
            "11264/11264 [==============================] - 13s 1ms/step - loss: 0.0192 - val_loss: 0.0133\n",
            "Epoch 163/300\n",
            "11264/11264 [==============================] - 13s 1ms/step - loss: 0.0294 - val_loss: 0.0252\n",
            "Epoch 164/300\n",
            "11264/11264 [==============================] - 13s 1ms/step - loss: 0.0253 - val_loss: 0.0189\n",
            "Epoch 165/300\n",
            "11264/11264 [==============================] - 13s 1ms/step - loss: 0.0247 - val_loss: 0.0156\n",
            "Epoch 166/300\n",
            "11264/11264 [==============================] - 13s 1ms/step - loss: 0.0216 - val_loss: 0.0146\n",
            "Epoch 167/300\n",
            "11264/11264 [==============================] - 13s 1ms/step - loss: 0.0199 - val_loss: 0.0149\n",
            "Epoch 168/300\n",
            "11264/11264 [==============================] - 13s 1ms/step - loss: 0.0208 - val_loss: 0.0187\n",
            "Epoch 169/300\n",
            "11264/11264 [==============================] - 13s 1ms/step - loss: 0.0225 - val_loss: 0.0165\n",
            "Epoch 170/300\n",
            "11264/11264 [==============================] - 13s 1ms/step - loss: 0.0259 - val_loss: 0.0302\n",
            "Epoch 171/300\n",
            "11264/11264 [==============================] - 13s 1ms/step - loss: 0.0283 - val_loss: 0.0156\n",
            "Epoch 172/300\n",
            "11264/11264 [==============================] - 13s 1ms/step - loss: 0.0211 - val_loss: 0.0253\n",
            "Epoch 173/300\n",
            "11264/11264 [==============================] - 13s 1ms/step - loss: 0.0227 - val_loss: 0.0243\n",
            "Epoch 174/300\n",
            "11264/11264 [==============================] - 13s 1ms/step - loss: 0.0269 - val_loss: 0.0157\n",
            "Epoch 175/300\n",
            "11264/11264 [==============================] - 13s 1ms/step - loss: 0.0181 - val_loss: 0.0144\n",
            "Epoch 176/300\n",
            "11264/11264 [==============================] - 13s 1ms/step - loss: 0.0193 - val_loss: 0.0155\n",
            "Epoch 177/300\n",
            "11264/11264 [==============================] - 13s 1ms/step - loss: 0.0188 - val_loss: 0.0196\n",
            "Epoch 178/300\n",
            "11264/11264 [==============================] - 13s 1ms/step - loss: 0.0202 - val_loss: 0.0141\n",
            "Epoch 179/300\n",
            "11264/11264 [==============================] - 13s 1ms/step - loss: 0.0188 - val_loss: 0.0130\n",
            "Epoch 180/300\n",
            "11264/11264 [==============================] - 13s 1ms/step - loss: 0.0196 - val_loss: 0.0181\n",
            "Epoch 181/300\n",
            "11264/11264 [==============================] - 13s 1ms/step - loss: 0.0212 - val_loss: 0.0141\n",
            "Epoch 182/300\n",
            "11264/11264 [==============================] - 13s 1ms/step - loss: 0.0206 - val_loss: 0.0149\n",
            "Epoch 183/300\n",
            "11264/11264 [==============================] - 13s 1ms/step - loss: 0.0235 - val_loss: 0.0141\n",
            "Epoch 184/300\n",
            "11264/11264 [==============================] - 13s 1ms/step - loss: 0.0188 - val_loss: 0.0164\n",
            "Epoch 185/300\n",
            "11264/11264 [==============================] - 13s 1ms/step - loss: 0.0166 - val_loss: 0.0125\n",
            "Epoch 186/300\n",
            "11264/11264 [==============================] - 13s 1ms/step - loss: 0.0186 - val_loss: 0.0200\n",
            "Epoch 187/300\n",
            "11264/11264 [==============================] - 13s 1ms/step - loss: 0.0206 - val_loss: 0.0138\n",
            "Epoch 188/300\n",
            "11264/11264 [==============================] - 13s 1ms/step - loss: 0.0201 - val_loss: 0.0148\n",
            "Epoch 189/300\n",
            "11264/11264 [==============================] - 13s 1ms/step - loss: 0.0189 - val_loss: 0.0135\n",
            "Epoch 190/300\n",
            "11264/11264 [==============================] - 13s 1ms/step - loss: 0.0209 - val_loss: 0.0223\n",
            "Epoch 191/300\n",
            "11264/11264 [==============================] - 13s 1ms/step - loss: 0.0178 - val_loss: 0.0163\n",
            "Epoch 192/300\n",
            "11264/11264 [==============================] - 13s 1ms/step - loss: 0.0210 - val_loss: 0.0191\n",
            "Epoch 193/300\n",
            "11264/11264 [==============================] - 14s 1ms/step - loss: 0.0236 - val_loss: 0.0186\n",
            "Epoch 194/300\n",
            "11264/11264 [==============================] - 13s 1ms/step - loss: 0.0201 - val_loss: 0.0241\n",
            "Epoch 195/300\n",
            "11264/11264 [==============================] - 13s 1ms/step - loss: 0.0178 - val_loss: 0.0116\n",
            "Epoch 196/300\n",
            "11264/11264 [==============================] - 13s 1ms/step - loss: 0.0160 - val_loss: 0.0136\n",
            "Epoch 197/300\n",
            "11264/11264 [==============================] - 13s 1ms/step - loss: 0.0196 - val_loss: 0.0152\n",
            "Epoch 198/300\n",
            "11264/11264 [==============================] - 13s 1ms/step - loss: 0.0178 - val_loss: 0.0160\n",
            "Epoch 199/300\n",
            "11264/11264 [==============================] - 13s 1ms/step - loss: 0.0182 - val_loss: 0.0184\n",
            "Epoch 200/300\n",
            "11264/11264 [==============================] - 13s 1ms/step - loss: 0.0288 - val_loss: 0.0475\n",
            "Epoch 201/300\n",
            "11264/11264 [==============================] - 13s 1ms/step - loss: 0.0263 - val_loss: 0.0129\n",
            "Epoch 202/300\n",
            "11264/11264 [==============================] - 13s 1ms/step - loss: 0.0164 - val_loss: 0.0116\n",
            "Epoch 203/300\n",
            "11264/11264 [==============================] - 13s 1ms/step - loss: 0.0179 - val_loss: 0.0187\n",
            "Epoch 204/300\n",
            "11264/11264 [==============================] - 13s 1ms/step - loss: 0.0200 - val_loss: 0.0127\n",
            "Epoch 205/300\n",
            "11264/11264 [==============================] - 13s 1ms/step - loss: 0.0163 - val_loss: 0.0176\n",
            "Epoch 206/300\n",
            "11264/11264 [==============================] - 13s 1ms/step - loss: 0.0195 - val_loss: 0.0161\n",
            "Epoch 207/300\n",
            "11264/11264 [==============================] - 13s 1ms/step - loss: 0.0167 - val_loss: 0.0134\n",
            "Epoch 208/300\n",
            "11264/11264 [==============================] - 13s 1ms/step - loss: 0.0189 - val_loss: 0.0145\n",
            "Epoch 209/300\n",
            "11264/11264 [==============================] - 13s 1ms/step - loss: 0.0182 - val_loss: 0.0142\n",
            "Epoch 210/300\n",
            "11264/11264 [==============================] - 13s 1ms/step - loss: 0.0183 - val_loss: 0.0119\n",
            "Epoch 211/300\n",
            "11264/11264 [==============================] - 13s 1ms/step - loss: 0.0195 - val_loss: 0.0267\n",
            "Epoch 212/300\n",
            "11264/11264 [==============================] - 13s 1ms/step - loss: 0.0199 - val_loss: 0.0186\n",
            "Epoch 213/300\n",
            "11264/11264 [==============================] - 13s 1ms/step - loss: 0.0165 - val_loss: 0.0121\n",
            "Epoch 214/300\n",
            "11264/11264 [==============================] - 13s 1ms/step - loss: 0.0171 - val_loss: 0.0159\n",
            "Epoch 215/300\n",
            "11264/11264 [==============================] - 13s 1ms/step - loss: 0.0161 - val_loss: 0.0142\n",
            "Epoch 216/300\n",
            "11264/11264 [==============================] - 13s 1ms/step - loss: 0.0179 - val_loss: 0.0114\n",
            "Epoch 217/300\n",
            "11264/11264 [==============================] - 13s 1ms/step - loss: 0.0163 - val_loss: 0.0123\n",
            "Epoch 218/300\n",
            "11264/11264 [==============================] - 13s 1ms/step - loss: 0.0212 - val_loss: 0.0128\n",
            "Epoch 219/300\n",
            "11264/11264 [==============================] - 13s 1ms/step - loss: 0.0167 - val_loss: 0.0166\n",
            "Epoch 220/300\n",
            "11264/11264 [==============================] - 13s 1ms/step - loss: 0.0180 - val_loss: 0.0170\n",
            "Epoch 221/300\n",
            "11264/11264 [==============================] - 13s 1ms/step - loss: 0.0152 - val_loss: 0.0111\n",
            "Epoch 222/300\n",
            "11264/11264 [==============================] - 13s 1ms/step - loss: 0.0143 - val_loss: 0.0119\n",
            "Epoch 223/300\n",
            "11264/11264 [==============================] - 13s 1ms/step - loss: 0.0170 - val_loss: 0.0310\n",
            "Epoch 224/300\n",
            "11264/11264 [==============================] - 13s 1ms/step - loss: 0.0212 - val_loss: 0.0116\n",
            "Epoch 225/300\n",
            "11264/11264 [==============================] - 13s 1ms/step - loss: 0.0159 - val_loss: 0.0124\n",
            "Epoch 226/300\n",
            "11264/11264 [==============================] - 13s 1ms/step - loss: 0.0154 - val_loss: 0.0108\n",
            "Epoch 227/300\n",
            "11264/11264 [==============================] - 13s 1ms/step - loss: 0.0146 - val_loss: 0.0151\n",
            "Epoch 228/300\n",
            "11264/11264 [==============================] - 13s 1ms/step - loss: 0.0203 - val_loss: 0.0229\n"
          ],
          "name": "stdout"
        },
        {
          "output_type": "stream",
          "text": [
            "Epoch 229/300\n",
            "11264/11264 [==============================] - 13s 1ms/step - loss: 0.0168 - val_loss: 0.0106\n",
            "Epoch 230/300\n",
            "11264/11264 [==============================] - 13s 1ms/step - loss: 0.0147 - val_loss: 0.0126\n",
            "Epoch 231/300\n",
            "11264/11264 [==============================] - 13s 1ms/step - loss: 0.0174 - val_loss: 0.0123\n",
            "Epoch 232/300\n",
            "11264/11264 [==============================] - 13s 1ms/step - loss: 0.0151 - val_loss: 0.0135\n",
            "Epoch 233/300\n",
            "11264/11264 [==============================] - 13s 1ms/step - loss: 0.0161 - val_loss: 0.0159\n",
            "Epoch 234/300\n",
            "11264/11264 [==============================] - 13s 1ms/step - loss: 0.0184 - val_loss: 0.0168\n",
            "Epoch 235/300\n",
            "11264/11264 [==============================] - 13s 1ms/step - loss: 0.0165 - val_loss: 0.0176\n",
            "Epoch 236/300\n",
            "11264/11264 [==============================] - 13s 1ms/step - loss: 0.0193 - val_loss: 0.0137\n",
            "Epoch 237/300\n",
            "11264/11264 [==============================] - 13s 1ms/step - loss: 0.0156 - val_loss: 0.0105\n",
            "Epoch 238/300\n",
            "11264/11264 [==============================] - 13s 1ms/step - loss: 0.0146 - val_loss: 0.0111\n",
            "Epoch 239/300\n",
            "11264/11264 [==============================] - 13s 1ms/step - loss: 0.0163 - val_loss: 0.0158\n",
            "Epoch 240/300\n",
            "11264/11264 [==============================] - 13s 1ms/step - loss: 0.0153 - val_loss: 0.0104\n",
            "Epoch 241/300\n",
            "11264/11264 [==============================] - 13s 1ms/step - loss: 0.0203 - val_loss: 0.0147\n",
            "Epoch 242/300\n",
            "11264/11264 [==============================] - 13s 1ms/step - loss: 0.0220 - val_loss: 0.0164\n",
            "Epoch 243/300\n",
            "11264/11264 [==============================] - 13s 1ms/step - loss: 0.0165 - val_loss: 0.0104\n",
            "Epoch 244/300\n",
            "11264/11264 [==============================] - 13s 1ms/step - loss: 0.0148 - val_loss: 0.0100\n",
            "Epoch 245/300\n",
            "11264/11264 [==============================] - 14s 1ms/step - loss: 0.0156 - val_loss: 0.0132\n",
            "Epoch 246/300\n",
            "11264/11264 [==============================] - 13s 1ms/step - loss: 0.0161 - val_loss: 0.0106\n",
            "Epoch 247/300\n",
            "11264/11264 [==============================] - 13s 1ms/step - loss: 0.0150 - val_loss: 0.0133\n",
            "Epoch 248/300\n",
            "11264/11264 [==============================] - 13s 1ms/step - loss: 0.0205 - val_loss: 0.0120\n",
            "Epoch 249/300\n",
            "11264/11264 [==============================] - 13s 1ms/step - loss: 0.0152 - val_loss: 0.0094\n",
            "Epoch 250/300\n",
            "11264/11264 [==============================] - 13s 1ms/step - loss: 0.0175 - val_loss: 0.0107\n",
            "Epoch 251/300\n",
            "11264/11264 [==============================] - 13s 1ms/step - loss: 0.0156 - val_loss: 0.0120\n",
            "Epoch 252/300\n",
            "11264/11264 [==============================] - 13s 1ms/step - loss: 0.0210 - val_loss: 0.0116\n",
            "Epoch 253/300\n",
            "11264/11264 [==============================] - 13s 1ms/step - loss: 0.0125 - val_loss: 0.0086\n",
            "Epoch 254/300\n",
            "11264/11264 [==============================] - 13s 1ms/step - loss: 0.0135 - val_loss: 0.0103\n",
            "Epoch 255/300\n",
            "11264/11264 [==============================] - 13s 1ms/step - loss: 0.0247 - val_loss: 0.0187\n",
            "Epoch 256/300\n",
            "11264/11264 [==============================] - 13s 1ms/step - loss: 0.0145 - val_loss: 0.0101\n",
            "Epoch 257/300\n",
            "11264/11264 [==============================] - 13s 1ms/step - loss: 0.0144 - val_loss: 0.0113\n",
            "Epoch 258/300\n",
            "11264/11264 [==============================] - 13s 1ms/step - loss: 0.0150 - val_loss: 0.0155\n",
            "Epoch 259/300\n",
            "11264/11264 [==============================] - 13s 1ms/step - loss: 0.0161 - val_loss: 0.0105\n",
            "Epoch 260/300\n",
            "11264/11264 [==============================] - 13s 1ms/step - loss: 0.0191 - val_loss: 0.0172\n",
            "Epoch 261/300\n",
            "11264/11264 [==============================] - 13s 1ms/step - loss: 0.0151 - val_loss: 0.0137\n",
            "Epoch 262/300\n",
            "11264/11264 [==============================] - 13s 1ms/step - loss: 0.0150 - val_loss: 0.0126\n",
            "Epoch 263/300\n",
            "11264/11264 [==============================] - 13s 1ms/step - loss: 0.0137 - val_loss: 0.0091\n",
            "Epoch 264/300\n",
            "11264/11264 [==============================] - 13s 1ms/step - loss: 0.0163 - val_loss: 0.0170\n",
            "Epoch 265/300\n",
            "11264/11264 [==============================] - 13s 1ms/step - loss: 0.0143 - val_loss: 0.0182\n",
            "Epoch 266/300\n",
            "11264/11264 [==============================] - 13s 1ms/step - loss: 0.0160 - val_loss: 0.0093\n",
            "Epoch 267/300\n",
            "11264/11264 [==============================] - 13s 1ms/step - loss: 0.0204 - val_loss: 0.0117\n",
            "Epoch 268/300\n",
            "11264/11264 [==============================] - 13s 1ms/step - loss: 0.0128 - val_loss: 0.0084\n",
            "Epoch 269/300\n",
            "11264/11264 [==============================] - 13s 1ms/step - loss: 0.0151 - val_loss: 0.0228\n",
            "Epoch 270/300\n",
            "11264/11264 [==============================] - 13s 1ms/step - loss: 0.0196 - val_loss: 0.0116\n",
            "Epoch 271/300\n",
            "11264/11264 [==============================] - 13s 1ms/step - loss: 0.0172 - val_loss: 0.0084\n",
            "Epoch 272/300\n",
            "11264/11264 [==============================] - 13s 1ms/step - loss: 0.0162 - val_loss: 0.0200\n",
            "Epoch 273/300\n",
            "11264/11264 [==============================] - 13s 1ms/step - loss: 0.0151 - val_loss: 0.0109\n",
            "Epoch 274/300\n",
            "11264/11264 [==============================] - 13s 1ms/step - loss: 0.0137 - val_loss: 0.0082\n",
            "Epoch 275/300\n",
            "11264/11264 [==============================] - 13s 1ms/step - loss: 0.0165 - val_loss: 0.0117\n",
            "Epoch 276/300\n",
            "11264/11264 [==============================] - 13s 1ms/step - loss: 0.0133 - val_loss: 0.0089\n",
            "Epoch 277/300\n",
            "11264/11264 [==============================] - 13s 1ms/step - loss: 0.0134 - val_loss: 0.0150\n",
            "Epoch 278/300\n",
            "11264/11264 [==============================] - 13s 1ms/step - loss: 0.0127 - val_loss: 0.0080\n",
            "Epoch 279/300\n",
            "11264/11264 [==============================] - 13s 1ms/step - loss: 0.0136 - val_loss: 0.0257\n",
            "Epoch 280/300\n",
            "11264/11264 [==============================] - 13s 1ms/step - loss: 0.0162 - val_loss: 0.0079\n",
            "Epoch 281/300\n",
            "11264/11264 [==============================] - 13s 1ms/step - loss: 0.0111 - val_loss: 0.0086\n",
            "Epoch 282/300\n",
            "11264/11264 [==============================] - 13s 1ms/step - loss: 0.0139 - val_loss: 0.0108\n",
            "Epoch 283/300\n",
            "11264/11264 [==============================] - 13s 1ms/step - loss: 0.0241 - val_loss: 0.0155\n",
            "Epoch 284/300\n",
            "11264/11264 [==============================] - 13s 1ms/step - loss: 0.0144 - val_loss: 0.0120\n",
            "Epoch 285/300\n",
            "11264/11264 [==============================] - 13s 1ms/step - loss: 0.0126 - val_loss: 0.0091\n",
            "Epoch 286/300\n",
            "11264/11264 [==============================] - 13s 1ms/step - loss: 0.0125 - val_loss: 0.0076\n",
            "Epoch 287/300\n",
            "11264/11264 [==============================] - 13s 1ms/step - loss: 0.0142 - val_loss: 0.0143\n",
            "Epoch 288/300\n",
            "11264/11264 [==============================] - 13s 1ms/step - loss: 0.0119 - val_loss: 0.0081\n",
            "Epoch 289/300\n",
            "11264/11264 [==============================] - 13s 1ms/step - loss: 0.0197 - val_loss: 0.0168\n",
            "Epoch 290/300\n",
            "11264/11264 [==============================] - 13s 1ms/step - loss: 0.0171 - val_loss: 0.0106\n",
            "Epoch 291/300\n",
            "11264/11264 [==============================] - 13s 1ms/step - loss: 0.0160 - val_loss: 0.0127\n",
            "Epoch 292/300\n",
            "11264/11264 [==============================] - 13s 1ms/step - loss: 0.0271 - val_loss: 0.0129\n",
            "Epoch 293/300\n",
            "11264/11264 [==============================] - 13s 1ms/step - loss: 0.0147 - val_loss: 0.0086\n",
            "Epoch 294/300\n",
            "11264/11264 [==============================] - 13s 1ms/step - loss: 0.0126 - val_loss: 0.0090\n",
            "Epoch 295/300\n",
            "11264/11264 [==============================] - 13s 1ms/step - loss: 0.0144 - val_loss: 0.0131\n",
            "Epoch 296/300\n",
            "11264/11264 [==============================] - 13s 1ms/step - loss: 0.0133 - val_loss: 0.0098\n",
            "Epoch 297/300\n",
            "11264/11264 [==============================] - 13s 1ms/step - loss: 0.0147 - val_loss: 0.0110\n",
            "Epoch 298/300\n",
            "11264/11264 [==============================] - 13s 1ms/step - loss: 0.0127 - val_loss: 0.0171\n",
            "Epoch 299/300\n",
            "11264/11264 [==============================] - 13s 1ms/step - loss: 0.0124 - val_loss: 0.0109\n",
            "Epoch 300/300\n",
            "11264/11264 [==============================] - 13s 1ms/step - loss: 0.0130 - val_loss: 0.0081\n"
          ],
          "name": "stdout"
        }
      ]
    },
    {
      "metadata": {
        "id": "7YPNar__5xuD",
        "colab_type": "code",
        "colab": {},
        "outputId": "008fd2c5-2e2f-487e-8c98-a650a53dcd6e"
      },
      "cell_type": "code",
      "source": [
        "train_loss = history.history['loss']\n",
        "val_loss = history.history['val_loss']\n",
        "\n",
        "epochs = range(len(train_loss))\n",
        "\n",
        "plt.figure()\n",
        "\n",
        "plt.plot(epochs, train_loss, 'ro', label='Training loss')\n",
        "plt.plot(epochs, val_loss, 'r', label='Validation loss')\n",
        "plt.title('Training and validation loss')\n",
        "plt.legend()\n",
        "\n",
        "plt.show();"
      ],
      "execution_count": 0,
      "outputs": [
        {
          "output_type": "display_data",
          "data": {
            "image/png": "[encoded data removed]",
            "text/plain": [
              "<Figure size 432x288 with 1 Axes>"
            ]
          },
          "metadata": {
            "tags": []
          }
        }
      ]
    },
    {
      "metadata": {
        "id": "DPj16hni5xuI",
        "colab_type": "code",
        "colab": {
          "base_uri": "https://localhost:8080/",
          "height": 71
        },
        "outputId": "d81d8155-6620-4d62-d372-f0f9cc78e0a9"
      },
      "cell_type": "code",
      "source": [
        "model=load_model('colab_notebook/seq2seq150seq.h5')"
      ],
      "execution_count": 80,
      "outputs": [
        {
          "output_type": "stream",
          "text": [
            "/usr/local/lib/python3.6/dist-packages/keras/models.py:318: UserWarning: Error in loading the saved optimizer state. As a result, your model is starting with a freshly initialized optimizer.\n",
            "  warnings.warn('Error in loading the saved optimizer '\n"
          ],
          "name": "stderr"
        }
      ]
    },
    {
      "metadata": {
        "id": "SlCt2vuP5xuL",
        "colab_type": "code",
        "colab": {}
      },
      "cell_type": "code",
      "source": [
        "pred_train=model.predict(train_X_norm)"
      ],
      "execution_count": 0,
      "outputs": []
    },
    {
      "metadata": {
        "id": "RQ0yqFoZ5xuQ",
        "colab_type": "code",
        "colab": {
          "base_uri": "https://localhost:8080/",
          "height": 34
        },
        "outputId": "112ef749-878f-445d-879e-3d211361ebc4"
      },
      "cell_type": "code",
      "source": [
        "pred_train.shape"
      ],
      "execution_count": 82,
      "outputs": [
        {
          "output_type": "execute_result",
          "data": {
            "text/plain": [
              "(11264, 150, 5)"
            ]
          },
          "metadata": {
            "tags": []
          },
          "execution_count": 82
        }
      ]
    },
    {
      "metadata": {
        "id": "JA0W0ija5xuU",
        "colab_type": "text"
      },
      "cell_type": "markdown",
      "source": [
        "** Reconstruction of the input sequence on training sample shows low reconstruction error**"
      ]
    },
    {
      "metadata": {
        "id": "u5exLuTt5xuW",
        "colab_type": "code",
        "colab": {
          "base_uri": "https://localhost:8080/",
          "height": 265
        },
        "outputId": "0f10e759-f3c5-4604-8174-08b99a5d60e0"
      },
      "cell_type": "code",
      "source": [
        "plt.plot(train_Y[5][:,3],label=\"Actual\")\n",
        "plt.plot(pred_train[5][:,3],label=\"reproduced\")\n",
        "plt.legend()\n",
        "plt.show();"
      ],
      "execution_count": 83,
      "outputs": [
        {
          "output_type": "display_data",
          "data": {
            "image/png": "[encoded data removed]",
            "text/plain": [
              "<matplotlib.figure.Figure at 0x7f99620de9b0>"
            ]
          },
          "metadata": {
            "tags": []
          }
        }
      ]
    },
    {
      "metadata": {
        "id": "Hevc0AT25xua",
        "colab_type": "code",
        "colab": {}
      },
      "cell_type": "code",
      "source": [
        "pred_val=model.predict(val_X_norm)"
      ],
      "execution_count": 0,
      "outputs": []
    },
    {
      "metadata": {
        "id": "oTh6g3CH5xug",
        "colab_type": "text"
      },
      "cell_type": "markdown",
      "source": [
        "** Reconstruction of the input sequence on Validation and test samples show low reconstruction error**"
      ]
    },
    {
      "metadata": {
        "id": "S54bIbks5xuh",
        "colab_type": "code",
        "colab": {
          "base_uri": "https://localhost:8080/",
          "height": 265
        },
        "outputId": "b5b4692a-cde1-41af-aad5-4d7b0fa146f4"
      },
      "cell_type": "code",
      "source": [
        "plt.plot(val_Y[5][:,3],label=\"Actual\")\n",
        "plt.plot(pred_val[5][:,3],label=\"reproduced\")\n",
        "plt.legend()\n",
        "plt.show();"
      ],
      "execution_count": 85,
      "outputs": [
        {
          "output_type": "display_data",
          "data": {
            "image/png": "[encoded data removed]",
            "text/plain": [
              "<matplotlib.figure.Figure at 0x7f9962155828>"
            ]
          },
          "metadata": {
            "tags": []
          }
        }
      ]
    },
    {
      "metadata": {
        "id": "xAVF8TfC5xuj",
        "colab_type": "code",
        "colab": {}
      },
      "cell_type": "code",
      "source": [
        "pred_test=model.predict(test_X_norm)"
      ],
      "execution_count": 0,
      "outputs": []
    },
    {
      "metadata": {
        "id": "RXZVXpwX5xun",
        "colab_type": "code",
        "colab": {
          "base_uri": "https://localhost:8080/",
          "height": 34
        },
        "outputId": "d02ccf70-8261-48f8-f16c-fcd17050ed60"
      },
      "cell_type": "code",
      "source": [
        "pred_test.shape"
      ],
      "execution_count": 87,
      "outputs": [
        {
          "output_type": "execute_result",
          "data": {
            "text/plain": [
              "(1565, 150, 5)"
            ]
          },
          "metadata": {
            "tags": []
          },
          "execution_count": 87
        }
      ]
    },
    {
      "metadata": {
        "id": "HE0-pUvf5xur",
        "colab_type": "code",
        "colab": {
          "base_uri": "https://localhost:8080/",
          "height": 265
        },
        "outputId": "7bd67509-0150-40c2-c64a-e40ee91bbaac"
      },
      "cell_type": "code",
      "source": [
        "plt.plot(test_Y[190][:,1],label=\"Actual\")\n",
        "plt.plot(pred_test[190][:,1],label=\"reproduced\")\n",
        "plt.legend()\n",
        "plt.show();"
      ],
      "execution_count": 88,
      "outputs": [
        {
          "output_type": "display_data",
          "data": {
            "image/png": "[encoded data removed]",
            "text/plain": [
              "<matplotlib.figure.Figure at 0x7f996210cc18>"
            ]
          },
          "metadata": {
            "tags": []
          }
        }
      ]
    },
    {
      "metadata": {
        "id": "ZNU4d0pq5xuu",
        "colab_type": "code",
        "colab": {}
      },
      "cell_type": "code",
      "source": [
        "pred_flt=model.predict(train_flt_nseq)"
      ],
      "execution_count": 0,
      "outputs": []
    },
    {
      "metadata": {
        "id": "inL_OL8j5xux",
        "colab_type": "text"
      },
      "cell_type": "markdown",
      "source": [
        "** How does reconstruction error look on faulty data?**"
      ]
    },
    {
      "metadata": {
        "id": "At38ULLL5xux",
        "colab_type": "code",
        "colab": {
          "base_uri": "https://localhost:8080/",
          "height": 267
        },
        "outputId": "0321418b-b335-42ae-b6b6-0147defefb6c"
      },
      "cell_type": "code",
      "source": [
        "plt.plot(train_flt_nseq[1000][:,2],label=\"Actual\")\n",
        "plt.plot(pred_flt[1000][:,2],label=\"reproduced\")\n",
        "plt.legend()\n",
        "plt.show();"
      ],
      "execution_count": 90,
      "outputs": [
        {
          "output_type": "display_data",
          "data": {
            "image/png": "[encoded data removed]",
            "text/plain": [
              "<matplotlib.figure.Figure at 0x7f995953ad30>"
            ]
          },
          "metadata": {
            "tags": []
          }
        }
      ]
    },
    {
      "metadata": {
        "id": "bbr8UZvM5xu0",
        "colab_type": "code",
        "colab": {}
      },
      "cell_type": "code",
      "source": [
        "train_error=[mean_squared_error(train_Y[i],pred_train[i]) for i in range(len(train_Y))]"
      ],
      "execution_count": 0,
      "outputs": []
    },
    {
      "metadata": {
        "id": "TiO2TVlK5xu2",
        "colab_type": "code",
        "colab": {}
      },
      "cell_type": "code",
      "source": [
        "test_error=[mean_squared_error(test_Y[i],pred_test[i]) for i in range(len(test_Y))]"
      ],
      "execution_count": 0,
      "outputs": []
    },
    {
      "metadata": {
        "id": "IJOhrlwW5xu4",
        "colab_type": "code",
        "colab": {}
      },
      "cell_type": "code",
      "source": [
        "flt_error=[mean_squared_error(train_flt_nseq[i],pred_flt[i]) for i in range(len(pred_flt))]"
      ],
      "execution_count": 0,
      "outputs": []
    },
    {
      "metadata": {
        "id": "wRsKF9n95xu7",
        "colab_type": "text"
      },
      "cell_type": "markdown",
      "source": [
        "** Overall reconstruction error on faulty data is 10x higher than reconstruction of normal data** "
      ]
    },
    {
      "metadata": {
        "id": "kZsBevbU5xu7",
        "colab_type": "code",
        "colab": {
          "base_uri": "https://localhost:8080/",
          "height": 34
        },
        "outputId": "885f4089-5a5d-431d-e471-05ce3d8d19aa"
      },
      "cell_type": "code",
      "source": [
        "print(np.mean(np.asarray(train_error)),np.mean(np.asarray(test_error)), np.mean(np.asarray(flt_error)))"
      ],
      "execution_count": 94,
      "outputs": [
        {
          "output_type": "stream",
          "text": [
            "0.01054386 0.006947308 0.08848256\n"
          ],
          "name": "stdout"
        }
      ]
    },
    {
      "metadata": {
        "id": "WuEOEBwV5xvB",
        "colab_type": "text"
      },
      "cell_type": "markdown",
      "source": [
        "### Building a classifier on reconstruction error\n",
        "\n",
        "1. We will generate one row per sequence, where each row has min, max, mean, kurtosis, and variance of each sensor reconstruction error\n",
        "2. This will give us a data set of n rows of normal reconstruction errors statistics, and m rows of faulty reconstruction errors\n",
        "3. We will train a random forest on this data to identify faults"
      ]
    },
    {
      "metadata": {
        "id": "rh0RLEU45xvC",
        "colab_type": "code",
        "colab": {}
      },
      "cell_type": "code",
      "source": [
        "'''\n",
        "concatenating all normal datasets into a single array\n",
        "'''\n",
        "norm_arr=np.vstack((train_X_norm,val_X_norm,test_X_norm))"
      ],
      "execution_count": 0,
      "outputs": []
    },
    {
      "metadata": {
        "id": "5DIVQPlM5xvF",
        "colab_type": "code",
        "colab": {}
      },
      "cell_type": "code",
      "source": [
        "'''\n",
        "concatenating all predictions on normal datasets into a single array\n",
        "'''\n",
        "norm_pred_arr=np.vstack((pred_train,pred_val,pred_test))"
      ],
      "execution_count": 0,
      "outputs": []
    },
    {
      "metadata": {
        "id": "MFLgoHvP5xvJ",
        "colab_type": "code",
        "colab": {}
      },
      "cell_type": "code",
      "source": [
        "'''\n",
        "creating residual array for normal data \n",
        "'''\n",
        "norm_resid_arr=norm_arr-norm_pred_arr"
      ],
      "execution_count": 0,
      "outputs": []
    },
    {
      "metadata": {
        "id": "Y4DJGJok5xvP",
        "colab_type": "code",
        "colab": {}
      },
      "cell_type": "code",
      "source": [
        "'''\n",
        "creating residual array for faulty data \n",
        "'''\n",
        "flt_resid_arr=train_flt_nseq-pred_flt"
      ],
      "execution_count": 0,
      "outputs": []
    },
    {
      "metadata": {
        "id": "dWIzX0m55xvT",
        "colab_type": "code",
        "colab": {}
      },
      "cell_type": "code",
      "source": [
        "def create_dist(arr_list):\n",
        "    \n",
        "    '''\n",
        "    this function takes as input a list of arrays or a 3D tensor (NxMxF)\n",
        "    it applies scipy stats function to each list of arrays \n",
        "    Returns a 2 D array (NxW)\n",
        "    '''\n",
        "    \n",
        "    norm_dist=[stats.describe(arr_list[i]) for i in range(len(arr_list))]\n",
        "    \n",
        "    normdistarrlist=[np.hstack(np.asarray((norm_dist[i].minmax[0],norm_dist[i].minmax[1],norm_dist[i].mean,norm_dist[i].variance,\n",
        "                               norm_dist[i].kurtosis))) for i in range(len(norm_dist))]\n",
        "    \n",
        "    return np.vstack(normdistarrlist)"
      ],
      "execution_count": 0,
      "outputs": []
    },
    {
      "metadata": {
        "id": "P3-IhAT65xvV",
        "colab_type": "code",
        "colab": {}
      },
      "cell_type": "code",
      "source": [
        "normdistarr=create_dist(norm_resid_arr)"
      ],
      "execution_count": 0,
      "outputs": []
    },
    {
      "metadata": {
        "id": "i7dZ5j5w5xvW",
        "colab_type": "code",
        "colab": {
          "base_uri": "https://localhost:8080/",
          "height": 34
        },
        "outputId": "f75caf11-777d-429a-9610-1f62113b566d"
      },
      "cell_type": "code",
      "source": [
        "normdistarr.shape"
      ],
      "execution_count": 101,
      "outputs": [
        {
          "output_type": "execute_result",
          "data": {
            "text/plain": [
              "(15646, 25)"
            ]
          },
          "metadata": {
            "tags": []
          },
          "execution_count": 101
        }
      ]
    },
    {
      "metadata": {
        "id": "gOTYnICD5xvZ",
        "colab_type": "text"
      },
      "cell_type": "markdown",
      "source": [
        "** Repeating the process above for the faulty data**"
      ]
    },
    {
      "metadata": {
        "id": "1KcL6ngw5xvb",
        "colab_type": "code",
        "colab": {}
      },
      "cell_type": "code",
      "source": [
        "fltdistarr=create_dist(flt_resid_arr)"
      ],
      "execution_count": 0,
      "outputs": []
    },
    {
      "metadata": {
        "id": "eeJ90RoB5xvd",
        "colab_type": "code",
        "colab": {
          "base_uri": "https://localhost:8080/",
          "height": 34
        },
        "outputId": "24e571ce-9428-49db-86f3-1a0919a85fc0"
      },
      "cell_type": "code",
      "source": [
        "fltdistarr.shape"
      ],
      "execution_count": 103,
      "outputs": [
        {
          "output_type": "execute_result",
          "data": {
            "text/plain": [
              "(1950, 25)"
            ]
          },
          "metadata": {
            "tags": []
          },
          "execution_count": 103
        }
      ]
    },
    {
      "metadata": {
        "id": "DdAa1gwu5xve",
        "colab_type": "code",
        "colab": {}
      },
      "cell_type": "code",
      "source": [
        "'''\n",
        "add fault=0 to to normal data \n",
        "'''\n",
        "norm_resid=np.hstack((normdistarr,np.zeros((normdistarr.shape[0],1))))"
      ],
      "execution_count": 0,
      "outputs": []
    },
    {
      "metadata": {
        "id": "77bWTGqo5xvi",
        "colab_type": "code",
        "colab": {}
      },
      "cell_type": "code",
      "source": [
        "'''\n",
        "add fault=1 to to normal data \n",
        "'''\n",
        "flt_resid=np.hstack((fltdistarr,np.ones((fltdistarr.shape[0],1))))"
      ],
      "execution_count": 0,
      "outputs": []
    },
    {
      "metadata": {
        "id": "EjqzdQYL5xvk",
        "colab_type": "code",
        "colab": {}
      },
      "cell_type": "code",
      "source": [
        "resid_all=np.vstack((norm_resid,flt_resid))"
      ],
      "execution_count": 0,
      "outputs": []
    },
    {
      "metadata": {
        "id": "RV_09gIf5xvm",
        "colab_type": "code",
        "colab": {
          "base_uri": "https://localhost:8080/",
          "height": 34
        },
        "outputId": "fa442070-b643-482d-9fb1-84d129c7dd32"
      },
      "cell_type": "code",
      "source": [
        "resid_all.shape"
      ],
      "execution_count": 107,
      "outputs": [
        {
          "output_type": "execute_result",
          "data": {
            "text/plain": [
              "(17596, 26)"
            ]
          },
          "metadata": {
            "tags": []
          },
          "execution_count": 107
        }
      ]
    },
    {
      "metadata": {
        "id": "2cwTG7qh5xvs",
        "colab_type": "code",
        "colab": {}
      },
      "cell_type": "code",
      "source": [
        "'''\n",
        "stacking up all residual statistics into a dataframe \n",
        "'''\n",
        "dfX=pd.DataFrame(resid_all[:,:-1]).join(pd.DataFrame(resid_all[:,-1],columns=['fault']))"
      ],
      "execution_count": 0,
      "outputs": []
    },
    {
      "metadata": {
        "id": "MMO2MD675xvu",
        "colab_type": "code",
        "colab": {}
      },
      "cell_type": "code",
      "source": [
        "def split_data(data_df,category,nsplit,testsize,random=2301):\n",
        "    trainsplit  =  StratifiedShuffleSplit ( n_splits = nsplit ,  test_size = testsize ,  random_state = random )\n",
        "    \n",
        "    \"\"\"\n",
        "    n_splits is for number of splits\n",
        "    test_size is % size from the entire population(between 0 and 1) for the test data set\n",
        "    random_state this is used to generate repeatable results next time we run this code again\n",
        "    \"\"\"\n",
        "    for  train_index ,  test_index  in  trainsplit . split ( data_df ,  data_df[category]):\n",
        "        strat_train_set  =  data_df.loc [train_index ]\n",
        "        strat_test_set  =  data_df.loc[test_index ]\n",
        "        \n",
        "    \"\"\" \n",
        "    stratifying by classification variables\n",
        "        \n",
        "    \"\"\"\n",
        "    return strat_train_set,strat_test_set"
      ],
      "execution_count": 0,
      "outputs": []
    },
    {
      "metadata": {
        "id": "0jBKtqYc5xvv",
        "colab_type": "code",
        "colab": {}
      },
      "cell_type": "code",
      "source": [
        "train_df,test_df =split_data(data_df=dfX,category=[\"fault\"],nsplit=1,testsize=0.1)\n",
        "\n",
        "X_train=train_df.iloc[:,:-1].values\n",
        "\n",
        "X_test=test_df.iloc[:,:-1].values\n",
        "y_train=train_df[\"fault\"].values\n",
        "y_test=test_df[\"fault\"].values;"
      ],
      "execution_count": 0,
      "outputs": []
    },
    {
      "metadata": {
        "id": "k8U614SJ5xvw",
        "colab_type": "code",
        "colab": {}
      },
      "cell_type": "code",
      "source": [
        "'''\n",
        "- Setting hyperparameters for Random Forest, adjust number of trees range between 100 and 1000 \n",
        "Call the Random Forest Classifier, seed=2301\n",
        "- use CV=5 to 10 for GridSearch\n",
        "'''\n",
        "# Enter your code here ~3 lines\n",
        "params={'n_estimators':[100,500,1000],'max_depth': [3,100,1000],'min_samples_split':[2,10]}\n",
        "ranf_clf=RandomForestClassifier(random_state=2301,n_jobs=-1)\n",
        "gs_ranf_clf=GridSearchCV(estimator=ranf_clf,param_grid=params,cv=5,return_train_score=False)"
      ],
      "execution_count": 0,
      "outputs": []
    },
    {
      "metadata": {
        "id": "02vPpNKz5xvy",
        "colab_type": "code",
        "colab": {}
      },
      "cell_type": "code",
      "source": [
        "'''\n",
        "- We will now fit the model and predict the training data set\n",
        "'''\n",
        "# Enter your code here ~ 2 line\n",
        "gs_ranf_clf=gs_ranf_clf.fit(X_train, y_train)"
      ],
      "execution_count": 0,
      "outputs": []
    },
    {
      "metadata": {
        "id": "qCR1BFM55xv2",
        "colab_type": "text"
      },
      "cell_type": "markdown",
      "source": [
        "** The results below show slightly overfit model on the training data**\n",
        "- Accuracy value is for Validation, while confusion matrix is on training"
      ]
    },
    {
      "metadata": {
        "id": "rcr78CSF5xv3",
        "colab_type": "code",
        "colab": {
          "base_uri": "https://localhost:8080/",
          "height": 102
        },
        "outputId": "bc511c00-29e3-4af5-928f-ec1bfbd76b34"
      },
      "cell_type": "code",
      "source": [
        "train_pred_ranf=gs_ranf_clf.predict(X_train)\n",
        "#code ends here\n",
        "\n",
        "ranfcv_acc=gs_ranf_clf.best_score_\n",
        "confusion = confusion_matrix(y_train, train_pred_ranf)\n",
        "print(\"accuracy:\\n{}\".format(ranfcv_acc))\n",
        "print(\"Confusion matrix:\\n{}\".format(confusion))"
      ],
      "execution_count": 113,
      "outputs": [
        {
          "output_type": "stream",
          "text": [
            "accuracy:\n",
            "0.9701944935589796\n",
            "Confusion matrix:\n",
            "[[14081     0]\n",
            " [    0  1755]]\n"
          ],
          "name": "stdout"
        }
      ]
    },
    {
      "metadata": {
        "id": "YvhpVsJC5xv8",
        "colab_type": "code",
        "colab": {}
      },
      "cell_type": "code",
      "source": [
        "pred_test=gs_ranf_clf.predict(X_test)"
      ],
      "execution_count": 0,
      "outputs": []
    },
    {
      "metadata": {
        "id": "xAuNkURo5xv-",
        "colab_type": "code",
        "colab": {
          "base_uri": "https://localhost:8080/",
          "height": 102
        },
        "outputId": "a2f2ad7e-4b0f-4ac5-a716-ef015b4b00f7"
      },
      "cell_type": "code",
      "source": [
        "acc_test=accuracy_score(y_test, pred_test)\n",
        "confusion = confusion_matrix(y_test, pred_test)\n",
        "print(\"accuracy:\\n{}\".format(acc_test))\n",
        "print(\"Confusion matrix:\\n{}\".format(confusion))"
      ],
      "execution_count": 115,
      "outputs": [
        {
          "output_type": "stream",
          "text": [
            "accuracy:\n",
            "0.9738636363636364\n",
            "Confusion matrix:\n",
            "[[1552   13]\n",
            " [  33  162]]\n"
          ],
          "name": "stdout"
        }
      ]
    },
    {
      "metadata": {
        "id": "-8YZi3CJ5xwA",
        "colab_type": "code",
        "colab": {}
      },
      "cell_type": "code",
      "source": [
        "def plot_confusion_matrix(cm, classes,\n",
        "                          normalize=False,\n",
        "                          title='Confusion matrix',\n",
        "                          cmap=plt.cm.Blues):\n",
        "    \"\"\"\n",
        "    This function prints and plots the confusion matrix.\n",
        "    Normalization can be applied by setting `normalize=True`.\n",
        "    \"\"\"\n",
        "    if normalize:\n",
        "        cm = cm.astype('float') / cm.sum(axis=1)[:, np.newaxis]\n",
        "        print(\"Normalized confusion matrix\")\n",
        "    else:\n",
        "        print('Confusion matrix, without normalization')\n",
        "\n",
        "    print(cm)\n",
        "\n",
        "    plt.imshow(cm, interpolation='nearest', cmap=cmap)\n",
        "    plt.title(title)\n",
        "    plt.colorbar()\n",
        "    tick_marks = np.arange(len(classes))\n",
        "    plt.xticks(tick_marks, classes, rotation=45)\n",
        "    plt.yticks(tick_marks, classes)\n",
        "\n",
        "    fmt = '.2f' if normalize else 'd'\n",
        "    thresh = cm.max() / 2.\n",
        "    for i, j in itertools.product(range(cm.shape[0]), range(cm.shape[1])):\n",
        "        plt.text(j, i, format(cm[i, j], fmt),\n",
        "                 horizontalalignment=\"center\",\n",
        "                 color=\"white\" if cm[i, j] > thresh else \"black\")\n",
        "\n",
        "    plt.tight_layout()\n",
        "    plt.ylabel('True label')\n",
        "    plt.xlabel('Predicted label')"
      ],
      "execution_count": 0,
      "outputs": []
    },
    {
      "metadata": {
        "id": "JxptSsLM5xwE",
        "colab_type": "code",
        "colab": {
          "base_uri": "https://localhost:8080/",
          "height": 362
        },
        "outputId": "467b4473-3d81-4670-a598-595de6fd90a8"
      },
      "cell_type": "code",
      "source": [
        "plot_confusion_matrix(confusion,classes=['normal','faulty'],normalize=True)"
      ],
      "execution_count": 120,
      "outputs": [
        {
          "output_type": "stream",
          "text": [
            "Normalized confusion matrix\n",
            "[[0.99169329 0.00830671]\n",
            " [0.16923077 0.83076923]]\n"
          ],
          "name": "stdout"
        },
        {
          "output_type": "display_data",
          "data": {
            "image/png": "[encoded data removed]",
            "text/plain": [
              "<matplotlib.figure.Figure at 0x7f994f08e9e8>"
            ]
          },
          "metadata": {
            "tags": []
          }
        }
      ]
    }
  ]
}