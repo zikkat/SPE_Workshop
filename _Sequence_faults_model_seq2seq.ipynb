{
 "cells": [
  {
   "cell_type": "markdown",
   "metadata": {},
   "source": [
    "# Introduction\n",
    "\n",
    "### About the dataset and the problem:\n",
    "\n",
    "This Dataset is from PHM 2018 data challenge: https://www.phmsociety.org/events/conference/phm/18/data-challenge\n",
    "\n",
    "The objective in the challenge is to identify equipment faults and predict Remaining Useful Life (RUL) before the next fault occurs\n",
    "\n",
    "The equipment at hand is Ion Etching Machines. The data set consists of 20 Ion Etching machines sensor data along with time of faults, there are over 1500 fault events\n",
    "\n",
    "For this notebook the dataset was reduced, after significant data engineering, to about 30% of normal operation, all fault data for 5 sensors\n",
    "\n",
    "This Notebook will demonstrate using LSTM sequence to sequence model for solving fault detection. The same method can be used to generate a RUL estimator which is outside of the scope of this notebook\n",
    "\n",
    "We will be using Keras with Tensorflow backend to build the LSTM for sequence to sequence"
   ]
  },
  {
   "cell_type": "markdown",
   "metadata": {},
   "source": [
    "# Gentle refresher on LSTM"
   ]
  },
  {
   "cell_type": "markdown",
   "metadata": {},
   "source": [
    "![]( images/timesequence.png)"
   ]
  },
  {
   "cell_type": "markdown",
   "metadata": {},
   "source": [
    "**Building a vanilla LSTM network**\n",
    "```python\n",
    "model = Sequential()\n",
    "'''The input to an LSTM layer has to be 3D tensor. The default LSTM layer output is 2D '''\n",
    "model.add(LSTM(32, input_shape=(NUM_TIMESTEPS,features )))## The shape of each input sample is defined in 1st layer only\n",
    "model.add(Dense(output))\n",
    "```"
   ]
  },
  {
   "cell_type": "markdown",
   "metadata": {},
   "source": [
    "** How do we stack layers: It's all about managing input and output from one layer to another**\n",
    "\n",
    "```python\n",
    "model = Sequential()\n",
    "'''\n",
    "Input to LSTM layer has to always be 3D, since the output is by default is 2D. We need to make \n",
    "return_sequences=True in order to stack a second LSTM layer. \n",
    "This will make the output of the 1st LSTM layer return a 3D output, which can now be input to the 2nd LSTM layer\n",
    "dropout and Recurrent_dropout helps with regularizing the network and reduce overfitting. \n",
    "'''\n",
    "model.add(LSTM(32, input_shape=(NUM_TIMESTEPS,features ),dropout=0.3, recurrent_dropout=0.5,return_sequences=True))\n",
    "model.add(LSTM(64, input_shape=(NUM_TIMESTEPS,features ),dropout=0.3, recurrent_dropout=0.5))\n",
    "model.add(Dense(output))\n",
    "```"
   ]
  },
  {
   "cell_type": "markdown",
   "metadata": {},
   "source": [
    "For this particular problem we will use sequence to sequence LSTM network, the method will work in the following way:\n",
    "\n",
    "- Train a seq2seq network on Normal data (this is we're pnly using the 1st 30% of normal data)\n",
    "- This seq2seq will act as an autoencoder, the network will regenerate the input sequence\n",
    "- We use this network to regenerate the input sequence and create a re-construction error\n",
    "- We then Train a Random Forrest on the reconstruction error to classify Faulty and normal sequences"
   ]
  },
  {
   "cell_type": "markdown",
   "metadata": {},
   "source": [
    "![]( images/seq2seq.png)"
   ]
  },
  {
   "cell_type": "code",
   "execution_count": 1,
   "metadata": {},
   "outputs": [
    {
     "name": "stderr",
     "output_type": "stream",
     "text": [
      "Using TensorFlow backend.\n"
     ]
    }
   ],
   "source": [
    "'''\n",
    "General libraries\n",
    "'''\n",
    "import os\n",
    "import pickle\n",
    "import pandas as pd\n",
    "import numpy as np\n",
    "import matplotlib.pyplot as plt\n",
    "%matplotlib inline\n",
    "from scipy import stats\n",
    "\n",
    "'''\n",
    "Scikit Learn\n",
    "'''\n",
    "\n",
    "from sklearn.preprocessing import StandardScaler\n",
    "from sklearn.metrics import confusion_matrix,accuracy_score,mean_squared_error\n",
    "from sklearn.model_selection import *\n",
    "from sklearn.externals import joblib\n",
    "from sklearn.ensemble import RandomForestClassifier\n",
    "\n",
    "'''\n",
    "Keras\n",
    "'''\n",
    "\n",
    "import keras\n",
    "from keras.preprocessing import sequence\n",
    "from keras.utils import to_categorical\n",
    "from keras.layers import LSTM, Dense, Input, TimeDistributed, Masking,RepeatVector\n",
    "from keras.models import Model, Sequential,load_model\n",
    "from keras.optimizers import RMSprop\n",
    "from keras import layers\n",
    "from keras.callbacks import EarlyStopping\n",
    "from keras import backend as K\n",
    "import tensorflow as tf;"
   ]
  },
  {
   "cell_type": "markdown",
   "metadata": {},
   "source": [
    "### Data Preparation for sequence modeling\n",
    "\n",
    "1. Loading lists of arrays corresponding for each operation on the ion etching machines\n",
    "2. apply standard scaling\n",
    "3. create tensors from lists using Keras sequence function"
   ]
  },
  {
   "cell_type": "code",
   "execution_count": 20,
   "metadata": {
    "collapsed": true
   },
   "outputs": [],
   "source": [
    "def get_data():\n",
    "    filenames=['train.pkl','val.pkl','test.pkl','fault.pkl']\n",
    "    dataset=[pickle.load(open(file,'rb')) for file in filenames]\n",
    "    return dataset[0],dataset[1],dataset[2],dataset[3]"
   ]
  },
  {
   "cell_type": "code",
   "execution_count": 22,
   "metadata": {},
   "outputs": [],
   "source": [
    "train, val, test, train_flt=get_data()"
   ]
  },
  {
   "cell_type": "markdown",
   "metadata": {},
   "source": [
    "**Preparing training data to apply standard scaling**"
   ]
  },
  {
   "cell_type": "code",
   "execution_count": 15,
   "metadata": {
    "collapsed": true
   },
   "outputs": [],
   "source": [
    "train_scale=np.vstack(train)"
   ]
  },
  {
   "cell_type": "markdown",
   "metadata": {},
   "source": [
    "** Fitting standard scaler to training and applying it to the datasets**"
   ]
  },
  {
   "cell_type": "code",
   "execution_count": 16,
   "metadata": {},
   "outputs": [
    {
     "data": {
      "text/plain": [
       "StandardScaler(copy=True, with_mean=True, with_std=True)"
      ]
     },
     "execution_count": 16,
     "metadata": {},
     "output_type": "execute_result"
    }
   ],
   "source": [
    "scalerx=StandardScaler()\n",
    "scalerx.fit(train_scale)"
   ]
  },
  {
   "cell_type": "code",
   "execution_count": 17,
   "metadata": {
    "collapsed": true
   },
   "outputs": [],
   "source": [
    "train_norm=[scalerx.transform(train[seq]) for seq in range(len(train))]\n",
    "val_norm=[scalerx.transform(val[seq]) for seq in range(len(val))]\n",
    "test_norm=[scalerx.transform(test[seq]) for seq in range(len(test))]"
   ]
  },
  {
   "cell_type": "code",
   "execution_count": 18,
   "metadata": {
    "collapsed": true
   },
   "outputs": [],
   "source": [
    "train_flt_norm=[scalerx.transform(train_flt[seq]) for seq in range(len(train_flt))]"
   ]
  },
  {
   "cell_type": "markdown",
   "metadata": {},
   "source": [
    "** Setting sequence length to 150, this was arrived to emperically through trial and error**"
   ]
  },
  {
   "cell_type": "code",
   "execution_count": 20,
   "metadata": {
    "collapsed": true
   },
   "outputs": [],
   "source": [
    "seq_len=150"
   ]
  },
  {
   "cell_type": "markdown",
   "metadata": {},
   "source": [
    "** Transforming lists into sequences**"
   ]
  },
  {
   "cell_type": "code",
   "execution_count": 21,
   "metadata": {
    "collapsed": true
   },
   "outputs": [],
   "source": [
    "'''\n",
    "pad_sequences function is a very versatile function. it allows us to handle cases \n",
    "of uneven sequence length by padding or truncating to a specificed length.\n",
    "Default pad value is 0, but user can apply any number or pass an impute into it\n",
    "\n",
    "'''\n",
    "train_X_norm=sequence.pad_sequences(train_norm, dtype='float32', maxlen=seq_len, padding='post',truncating='post')\n",
    "val_X_norm=sequence.pad_sequences(val_norm, dtype='float32', maxlen=seq_len, padding='post',truncating='post')\n",
    "test_X_norm=sequence.pad_sequences(test_norm, dtype='float32', maxlen=seq_len, padding='post',truncating='post')\n",
    "train_flt_nseq=sequence.pad_sequences(train_flt_norm, dtype='float32', maxlen=seq_len, padding='post',truncating='post')"
   ]
  },
  {
   "cell_type": "code",
   "execution_count": 22,
   "metadata": {
    "collapsed": true
   },
   "outputs": [],
   "source": [
    "'''\n",
    "We want our LSTM network to regenerate the input sequence. \n",
    "Therefore the Target sequence is the same as input sequence. Y=X \n",
    "\n",
    "'''\n",
    "\n",
    "train_Y = train_X_norm\n",
    "val_Y=val_X_norm\n",
    "test_Y=test_X_norm"
   ]
  },
  {
   "cell_type": "code",
   "execution_count": 23,
   "metadata": {
    "collapsed": true
   },
   "outputs": [],
   "source": [
    "output=train_Y.shape[-1]"
   ]
  },
  {
   "cell_type": "code",
   "execution_count": 24,
   "metadata": {},
   "outputs": [
    {
     "data": {
      "text/plain": [
       "5"
      ]
     },
     "execution_count": 24,
     "metadata": {},
     "output_type": "execute_result"
    }
   ],
   "source": [
    "output"
   ]
  },
  {
   "cell_type": "code",
   "execution_count": 25,
   "metadata": {
    "collapsed": true
   },
   "outputs": [],
   "source": [
    "seqlen_train=len(train_X_norm)\n",
    "seqlen_val=len(val_X_norm)\n",
    "seqlen_test=len(test_X_norm)"
   ]
  },
  {
   "cell_type": "code",
   "execution_count": 26,
   "metadata": {},
   "outputs": [
    {
     "name": "stdout",
     "output_type": "stream",
     "text": [
      "train X and Y (11264, 150, 5) (11264, 150, 5)\n"
     ]
    }
   ],
   "source": [
    "'''WE got our Tensors'''\n",
    "print('train X and Y',train_X_norm.shape,train_Y.shape)"
   ]
  },
  {
   "cell_type": "code",
   "execution_count": 27,
   "metadata": {},
   "outputs": [
    {
     "name": "stdout",
     "output_type": "stream",
     "text": [
      "val X and Y (2817, 150, 5) (2817, 150, 5)\n"
     ]
    }
   ],
   "source": [
    "print('val X and Y',val_X_norm.shape,val_Y.shape)"
   ]
  },
  {
   "cell_type": "code",
   "execution_count": 28,
   "metadata": {},
   "outputs": [
    {
     "name": "stdout",
     "output_type": "stream",
     "text": [
      "test X and Y (1565, 150, 5) (1565, 150, 5)\n"
     ]
    }
   ],
   "source": [
    "print('test X and Y',test_X_norm.shape,test_Y.shape)"
   ]
  },
  {
   "cell_type": "code",
   "execution_count": 40,
   "metadata": {
    "collapsed": true
   },
   "outputs": [],
   "source": [
    "K.clear_session()"
   ]
  },
  {
   "cell_type": "code",
   "execution_count": 41,
   "metadata": {},
   "outputs": [
    {
     "name": "stdout",
     "output_type": "stream",
     "text": [
      "_________________________________________________________________\n",
      "Layer (type)                 Output Shape              Param #   \n",
      "=================================================================\n",
      "lstm_1 (LSTM)                (None, 200)               164800    \n",
      "_________________________________________________________________\n",
      "repeat_vector_1 (RepeatVecto (None, 150, 200)          0         \n",
      "_________________________________________________________________\n",
      "lstm_2 (LSTM)                (None, 150, 200)          320800    \n",
      "_________________________________________________________________\n",
      "time_distributed_1 (TimeDist (None, 150, 5)            1005      \n",
      "=================================================================\n",
      "Total params: 486,605\n",
      "Trainable params: 486,605\n",
      "Non-trainable params: 0\n",
      "_________________________________________________________________\n"
     ]
    }
   ],
   "source": [
    "model = Sequential()\n",
    "'''The input to an LSTM layer has to be 3D tensor. The default LSTM layer output is 2D '''\n",
    "model.add(LSTM(200, input_shape=(train_X_norm.shape[-2],train_X_norm.shape[-1]),implementation=2))\n",
    "'''\n",
    "The repeatvector method reconstructs the output of the LSTM into 3D \n",
    "the combination of the 1st LSTM layer and repeat vector make up the encoder\n",
    "'''\n",
    "model.add(RepeatVector(train_X_norm.shape[-2])) \n",
    "'''The 2nd LSTM layer along with the timedistributed output make up the decoder '''\n",
    "model.add(LSTM(200,implementation=2,return_sequences=True))\n",
    "model.add(TimeDistributed(Dense(output)))\n",
    "model.summary()\n",
    "model.compile(optimizer='adam', loss='mean_squared_error')"
   ]
  },
  {
   "cell_type": "code",
   "execution_count": 42,
   "metadata": {
    "collapsed": true
   },
   "outputs": [],
   "source": [
    "es=[EarlyStopping(monitor='val_loss',patience=20)]"
   ]
  },
  {
   "cell_type": "code",
   "execution_count": 43,
   "metadata": {},
   "outputs": [
    {
     "name": "stdout",
     "output_type": "stream",
     "text": [
      "Train on 11264 samples, validate on 2817 samples\n",
      "Epoch 1/300\n",
      "11264/11264 [==============================] - 14s 1ms/step - loss: 0.6081 - val_loss: 0.3923\n",
      "Epoch 2/300\n",
      "11264/11264 [==============================] - 13s 1ms/step - loss: 0.3576 - val_loss: 0.3013\n",
      "Epoch 3/300\n",
      "11264/11264 [==============================] - 14s 1ms/step - loss: 0.2493 - val_loss: 0.1897\n",
      "Epoch 4/300\n",
      "11264/11264 [==============================] - 13s 1ms/step - loss: 0.1955 - val_loss: 0.1542\n",
      "Epoch 5/300\n",
      "11264/11264 [==============================] - 13s 1ms/step - loss: 0.1597 - val_loss: 0.1388\n",
      "Epoch 6/300\n",
      "11264/11264 [==============================] - 13s 1ms/step - loss: 0.1407 - val_loss: 0.1458\n",
      "Epoch 7/300\n",
      "11264/11264 [==============================] - 13s 1ms/step - loss: 0.1299 - val_loss: 0.1031\n",
      "Epoch 8/300\n",
      "11264/11264 [==============================] - 13s 1ms/step - loss: 0.1159 - val_loss: 0.1025\n",
      "Epoch 9/300\n",
      "11264/11264 [==============================] - 13s 1ms/step - loss: 0.1135 - val_loss: 0.0893\n",
      "Epoch 10/300\n",
      "11264/11264 [==============================] - 13s 1ms/step - loss: 0.0965 - val_loss: 0.0927\n",
      "Epoch 11/300\n",
      "11264/11264 [==============================] - 13s 1ms/step - loss: 0.0959 - val_loss: 0.0718\n",
      "Epoch 12/300\n",
      "11264/11264 [==============================] - 13s 1ms/step - loss: 0.0951 - val_loss: 0.1192\n",
      "Epoch 13/300\n",
      "11264/11264 [==============================] - 13s 1ms/step - loss: 0.1078 - val_loss: 0.0834\n",
      "Epoch 14/300\n",
      "11264/11264 [==============================] - 13s 1ms/step - loss: 0.0986 - val_loss: 0.0758\n",
      "Epoch 15/300\n",
      "11264/11264 [==============================] - 13s 1ms/step - loss: 0.0884 - val_loss: 0.0729\n",
      "Epoch 16/300\n",
      "11264/11264 [==============================] - 13s 1ms/step - loss: 0.0797 - val_loss: 0.0625\n",
      "Epoch 17/300\n",
      "11264/11264 [==============================] - 13s 1ms/step - loss: 0.0782 - val_loss: 0.0853\n",
      "Epoch 18/300\n",
      "11264/11264 [==============================] - 13s 1ms/step - loss: 0.0753 - val_loss: 0.0595\n",
      "Epoch 19/300\n",
      "11264/11264 [==============================] - 13s 1ms/step - loss: 0.0767 - val_loss: 0.0692\n",
      "Epoch 20/300\n",
      "11264/11264 [==============================] - 13s 1ms/step - loss: 0.0729 - val_loss: 0.0618\n",
      "Epoch 21/300\n",
      "11264/11264 [==============================] - 13s 1ms/step - loss: 0.0666 - val_loss: 0.0626\n",
      "Epoch 22/300\n",
      "11264/11264 [==============================] - 13s 1ms/step - loss: 0.0651 - val_loss: 0.0642\n",
      "Epoch 23/300\n",
      "11264/11264 [==============================] - 13s 1ms/step - loss: 0.0670 - val_loss: 0.0595\n",
      "Epoch 24/300\n",
      "11264/11264 [==============================] - 13s 1ms/step - loss: 0.0624 - val_loss: 0.0499\n",
      "Epoch 25/300\n",
      "11264/11264 [==============================] - 13s 1ms/step - loss: 0.0690 - val_loss: 0.0654\n",
      "Epoch 26/300\n",
      "11264/11264 [==============================] - 13s 1ms/step - loss: 0.0689 - val_loss: 0.0511\n",
      "Epoch 27/300\n",
      "11264/11264 [==============================] - 13s 1ms/step - loss: 0.0585 - val_loss: 0.0657\n",
      "Epoch 28/300\n",
      "11264/11264 [==============================] - 13s 1ms/step - loss: 0.0626 - val_loss: 0.0626\n",
      "Epoch 29/300\n",
      "11264/11264 [==============================] - 13s 1ms/step - loss: 0.0679 - val_loss: 0.0490\n",
      "Epoch 30/300\n",
      "11264/11264 [==============================] - 13s 1ms/step - loss: 0.0591 - val_loss: 0.0499\n",
      "Epoch 31/300\n",
      "11264/11264 [==============================] - 13s 1ms/step - loss: 0.0564 - val_loss: 0.0477\n",
      "Epoch 32/300\n",
      "11264/11264 [==============================] - 13s 1ms/step - loss: 0.0568 - val_loss: 0.0511\n",
      "Epoch 33/300\n",
      "11264/11264 [==============================] - 13s 1ms/step - loss: 0.0571 - val_loss: 0.0582\n",
      "Epoch 34/300\n",
      "11264/11264 [==============================] - 13s 1ms/step - loss: 0.0578 - val_loss: 0.0570\n",
      "Epoch 35/300\n",
      "11264/11264 [==============================] - 13s 1ms/step - loss: 0.0557 - val_loss: 0.0538\n",
      "Epoch 36/300\n",
      "11264/11264 [==============================] - 13s 1ms/step - loss: 0.0548 - val_loss: 0.0460\n",
      "Epoch 37/300\n",
      "11264/11264 [==============================] - 13s 1ms/step - loss: 0.0480 - val_loss: 0.0545\n",
      "Epoch 38/300\n",
      "11264/11264 [==============================] - 13s 1ms/step - loss: 0.0552 - val_loss: 0.0453\n",
      "Epoch 39/300\n",
      "11264/11264 [==============================] - 13s 1ms/step - loss: 0.0508 - val_loss: 0.0406\n",
      "Epoch 40/300\n",
      "11264/11264 [==============================] - 13s 1ms/step - loss: 0.0510 - val_loss: 0.0426\n",
      "Epoch 41/300\n",
      "11264/11264 [==============================] - 13s 1ms/step - loss: 0.0499 - val_loss: 0.0444\n",
      "Epoch 42/300\n",
      "11264/11264 [==============================] - 13s 1ms/step - loss: 0.0471 - val_loss: 0.0582\n",
      "Epoch 43/300\n",
      "11264/11264 [==============================] - 13s 1ms/step - loss: 0.0451 - val_loss: 0.0351\n",
      "Epoch 44/300\n",
      "11264/11264 [==============================] - 13s 1ms/step - loss: 0.0458 - val_loss: 0.0443\n",
      "Epoch 45/300\n",
      "11264/11264 [==============================] - 13s 1ms/step - loss: 0.0478 - val_loss: 0.0508\n",
      "Epoch 46/300\n",
      "11264/11264 [==============================] - 13s 1ms/step - loss: 0.0466 - val_loss: 0.0481\n",
      "Epoch 47/300\n",
      "11264/11264 [==============================] - 13s 1ms/step - loss: 0.0445 - val_loss: 0.0362\n",
      "Epoch 48/300\n",
      "11264/11264 [==============================] - 13s 1ms/step - loss: 0.0420 - val_loss: 0.0360\n",
      "Epoch 49/300\n",
      "11264/11264 [==============================] - 13s 1ms/step - loss: 0.0443 - val_loss: 0.0380\n",
      "Epoch 50/300\n",
      "11264/11264 [==============================] - 13s 1ms/step - loss: 0.0443 - val_loss: 0.0334\n",
      "Epoch 51/300\n",
      "11264/11264 [==============================] - 13s 1ms/step - loss: 0.0436 - val_loss: 0.0324\n",
      "Epoch 52/300\n",
      "11264/11264 [==============================] - 13s 1ms/step - loss: 0.0396 - val_loss: 0.0308\n",
      "Epoch 53/300\n",
      "11264/11264 [==============================] - 13s 1ms/step - loss: 0.0419 - val_loss: 0.0399\n",
      "Epoch 54/300\n",
      "11264/11264 [==============================] - 13s 1ms/step - loss: 0.0437 - val_loss: 0.0341\n",
      "Epoch 55/300\n",
      "11264/11264 [==============================] - 13s 1ms/step - loss: 0.0452 - val_loss: 0.0388\n",
      "Epoch 56/300\n",
      "11264/11264 [==============================] - 13s 1ms/step - loss: 0.0379 - val_loss: 0.0481\n",
      "Epoch 57/300\n",
      "11264/11264 [==============================] - 13s 1ms/step - loss: 0.0393 - val_loss: 0.0317\n",
      "Epoch 58/300\n",
      "11264/11264 [==============================] - 13s 1ms/step - loss: 0.0364 - val_loss: 0.0304\n",
      "Epoch 59/300\n",
      "11264/11264 [==============================] - 13s 1ms/step - loss: 0.0385 - val_loss: 0.0314\n",
      "Epoch 60/300\n",
      "11264/11264 [==============================] - 13s 1ms/step - loss: 0.0419 - val_loss: 0.0327\n",
      "Epoch 61/300\n",
      "11264/11264 [==============================] - 13s 1ms/step - loss: 0.0353 - val_loss: 0.0268\n",
      "Epoch 62/300\n",
      "11264/11264 [==============================] - 13s 1ms/step - loss: 0.0376 - val_loss: 0.0287\n",
      "Epoch 63/300\n",
      "11264/11264 [==============================] - 13s 1ms/step - loss: 0.0408 - val_loss: 0.0356\n",
      "Epoch 64/300\n",
      "11264/11264 [==============================] - 13s 1ms/step - loss: 0.0452 - val_loss: 0.0319\n",
      "Epoch 65/300\n",
      "11264/11264 [==============================] - 13s 1ms/step - loss: 0.0453 - val_loss: 0.0381\n",
      "Epoch 66/300\n",
      "11264/11264 [==============================] - 13s 1ms/step - loss: 0.0371 - val_loss: 0.0275\n",
      "Epoch 67/300\n",
      "11264/11264 [==============================] - 13s 1ms/step - loss: 0.0376 - val_loss: 0.0297\n",
      "Epoch 68/300\n",
      "11264/11264 [==============================] - 13s 1ms/step - loss: 0.0351 - val_loss: 0.0321\n",
      "Epoch 69/300\n",
      "11264/11264 [==============================] - 13s 1ms/step - loss: 0.0372 - val_loss: 0.0313\n",
      "Epoch 70/300\n",
      "11264/11264 [==============================] - 13s 1ms/step - loss: 0.0353 - val_loss: 0.0265\n",
      "Epoch 71/300\n",
      "11264/11264 [==============================] - 13s 1ms/step - loss: 0.0329 - val_loss: 0.0346\n",
      "Epoch 72/300\n",
      "11264/11264 [==============================] - 13s 1ms/step - loss: 0.0357 - val_loss: 0.0282\n",
      "Epoch 73/300\n",
      "11264/11264 [==============================] - 13s 1ms/step - loss: 0.0339 - val_loss: 0.0266\n",
      "Epoch 74/300\n",
      "11264/11264 [==============================] - 13s 1ms/step - loss: 0.0356 - val_loss: 0.0269\n",
      "Epoch 75/300\n",
      "11264/11264 [==============================] - 13s 1ms/step - loss: 0.0303 - val_loss: 0.0242\n",
      "Epoch 76/300\n",
      "11264/11264 [==============================] - 13s 1ms/step - loss: 0.0330 - val_loss: 0.0286\n",
      "Epoch 77/300\n",
      "11264/11264 [==============================] - 13s 1ms/step - loss: 0.0328 - val_loss: 0.0251\n",
      "Epoch 78/300\n",
      "11264/11264 [==============================] - 13s 1ms/step - loss: 0.0362 - val_loss: 0.0356\n",
      "Epoch 79/300\n",
      "11264/11264 [==============================] - 13s 1ms/step - loss: 0.0310 - val_loss: 0.0227\n",
      "Epoch 80/300\n",
      "11264/11264 [==============================] - 13s 1ms/step - loss: 0.0317 - val_loss: 0.0257\n",
      "Epoch 81/300\n",
      "11264/11264 [==============================] - 13s 1ms/step - loss: 0.0398 - val_loss: 0.0358\n",
      "Epoch 82/300\n",
      "11264/11264 [==============================] - 13s 1ms/step - loss: 0.0317 - val_loss: 0.0255\n",
      "Epoch 83/300\n",
      "11264/11264 [==============================] - 13s 1ms/step - loss: 0.0356 - val_loss: 0.0319\n",
      "Epoch 84/300\n",
      "11264/11264 [==============================] - 13s 1ms/step - loss: 0.0318 - val_loss: 0.0318\n",
      "Epoch 85/300\n",
      "11264/11264 [==============================] - 13s 1ms/step - loss: 0.0316 - val_loss: 0.0239\n",
      "Epoch 86/300\n",
      "11264/11264 [==============================] - 13s 1ms/step - loss: 0.0500 - val_loss: 0.0317\n",
      "Epoch 87/300\n",
      "11264/11264 [==============================] - 13s 1ms/step - loss: 0.0319 - val_loss: 0.0249\n",
      "Epoch 88/300\n",
      "11264/11264 [==============================] - 13s 1ms/step - loss: 0.0313 - val_loss: 0.0340\n",
      "Epoch 89/300\n",
      "11264/11264 [==============================] - 13s 1ms/step - loss: 0.0298 - val_loss: 0.0229\n",
      "Epoch 90/300\n",
      "11264/11264 [==============================] - 13s 1ms/step - loss: 0.0276 - val_loss: 0.0269\n",
      "Epoch 91/300\n",
      "11264/11264 [==============================] - 13s 1ms/step - loss: 0.0299 - val_loss: 0.0289\n",
      "Epoch 92/300\n",
      "11264/11264 [==============================] - 13s 1ms/step - loss: 0.0295 - val_loss: 0.0254\n",
      "Epoch 93/300\n",
      "11264/11264 [==============================] - 13s 1ms/step - loss: 0.0316 - val_loss: 0.0250\n",
      "Epoch 94/300\n",
      "11264/11264 [==============================] - 13s 1ms/step - loss: 0.0294 - val_loss: 0.0248\n",
      "Epoch 95/300\n",
      "11264/11264 [==============================] - 13s 1ms/step - loss: 0.0301 - val_loss: 0.0231\n",
      "Epoch 96/300\n",
      "11264/11264 [==============================] - 13s 1ms/step - loss: 0.0277 - val_loss: 0.0224\n",
      "Epoch 97/300\n",
      "11264/11264 [==============================] - 13s 1ms/step - loss: 0.0299 - val_loss: 0.0286\n",
      "Epoch 98/300\n",
      "11264/11264 [==============================] - 13s 1ms/step - loss: 0.0302 - val_loss: 0.0214\n",
      "Epoch 99/300\n",
      "11264/11264 [==============================] - 13s 1ms/step - loss: 0.0329 - val_loss: 0.0250\n",
      "Epoch 100/300\n",
      "11264/11264 [==============================] - 13s 1ms/step - loss: 0.0302 - val_loss: 0.0273\n",
      "Epoch 101/300\n",
      "11264/11264 [==============================] - 13s 1ms/step - loss: 0.0279 - val_loss: 0.0199\n",
      "Epoch 102/300\n",
      "11264/11264 [==============================] - 13s 1ms/step - loss: 0.0274 - val_loss: 0.0247\n",
      "Epoch 103/300\n",
      "11264/11264 [==============================] - 13s 1ms/step - loss: 0.0325 - val_loss: 0.0218\n",
      "Epoch 104/300\n",
      "11264/11264 [==============================] - 13s 1ms/step - loss: 0.0275 - val_loss: 0.0199\n",
      "Epoch 105/300\n",
      "11264/11264 [==============================] - 13s 1ms/step - loss: 0.0612 - val_loss: 0.0502\n",
      "Epoch 106/300\n",
      "11264/11264 [==============================] - 13s 1ms/step - loss: 0.0430 - val_loss: 0.0292\n",
      "Epoch 107/300\n",
      "11264/11264 [==============================] - 13s 1ms/step - loss: 0.0378 - val_loss: 0.0376\n",
      "Epoch 108/300\n",
      "11264/11264 [==============================] - 13s 1ms/step - loss: 0.0346 - val_loss: 0.0229\n",
      "Epoch 109/300\n",
      "11264/11264 [==============================] - 13s 1ms/step - loss: 0.0328 - val_loss: 0.0219\n",
      "Epoch 110/300\n",
      "11264/11264 [==============================] - 13s 1ms/step - loss: 0.0304 - val_loss: 0.0286\n",
      "Epoch 111/300\n",
      "11264/11264 [==============================] - 13s 1ms/step - loss: 0.0315 - val_loss: 0.0269\n",
      "Epoch 112/300\n",
      "11264/11264 [==============================] - 13s 1ms/step - loss: 0.0307 - val_loss: 0.0201\n",
      "Epoch 113/300\n",
      "11264/11264 [==============================] - 13s 1ms/step - loss: 0.0292 - val_loss: 0.0233\n",
      "Epoch 114/300\n",
      "11264/11264 [==============================] - 13s 1ms/step - loss: 0.0298 - val_loss: 0.0269\n",
      "Epoch 115/300\n",
      "11264/11264 [==============================] - 13s 1ms/step - loss: 0.0329 - val_loss: 0.0415\n",
      "Epoch 116/300\n",
      "11264/11264 [==============================] - 13s 1ms/step - loss: 0.0296 - val_loss: 0.0210\n",
      "Epoch 117/300\n",
      "11264/11264 [==============================] - 13s 1ms/step - loss: 0.0302 - val_loss: 0.0234\n",
      "Epoch 118/300\n",
      "11264/11264 [==============================] - 13s 1ms/step - loss: 0.0264 - val_loss: 0.0224\n",
      "Epoch 119/300\n",
      "11264/11264 [==============================] - 13s 1ms/step - loss: 0.0274 - val_loss: 0.0299\n",
      "Epoch 120/300\n",
      "11264/11264 [==============================] - 13s 1ms/step - loss: 0.0327 - val_loss: 0.0285\n",
      "Epoch 121/300\n",
      "11264/11264 [==============================] - 13s 1ms/step - loss: 0.0262 - val_loss: 0.0200\n",
      "Epoch 122/300\n",
      "11264/11264 [==============================] - 13s 1ms/step - loss: 0.0263 - val_loss: 0.0200\n",
      "Epoch 123/300\n",
      "11264/11264 [==============================] - 13s 1ms/step - loss: 0.0247 - val_loss: 0.0203\n",
      "Epoch 124/300\n",
      "11264/11264 [==============================] - 13s 1ms/step - loss: 0.0263 - val_loss: 0.0198\n",
      "Epoch 125/300\n",
      "11264/11264 [==============================] - 13s 1ms/step - loss: 0.0262 - val_loss: 0.0237\n",
      "Epoch 126/300\n",
      "11264/11264 [==============================] - 13s 1ms/step - loss: 0.0357 - val_loss: 0.0390\n",
      "Epoch 127/300\n",
      "11264/11264 [==============================] - 13s 1ms/step - loss: 0.0287 - val_loss: 0.0171\n",
      "Epoch 128/300\n",
      "11264/11264 [==============================] - 13s 1ms/step - loss: 0.0247 - val_loss: 0.0230\n",
      "Epoch 129/300\n",
      "11264/11264 [==============================] - 13s 1ms/step - loss: 0.0258 - val_loss: 0.0196\n",
      "Epoch 130/300\n",
      "11264/11264 [==============================] - 13s 1ms/step - loss: 0.0247 - val_loss: 0.0187\n",
      "Epoch 131/300\n",
      "11264/11264 [==============================] - 13s 1ms/step - loss: 0.0227 - val_loss: 0.0180\n",
      "Epoch 132/300\n",
      "11264/11264 [==============================] - 13s 1ms/step - loss: 0.0242 - val_loss: 0.0213\n",
      "Epoch 133/300\n",
      "11264/11264 [==============================] - 13s 1ms/step - loss: 0.0247 - val_loss: 0.0195\n",
      "Epoch 134/300\n",
      "11264/11264 [==============================] - 13s 1ms/step - loss: 0.0247 - val_loss: 0.0179\n",
      "Epoch 135/300\n",
      "11264/11264 [==============================] - 13s 1ms/step - loss: 0.0257 - val_loss: 0.0396\n",
      "Epoch 136/300\n",
      "11264/11264 [==============================] - 13s 1ms/step - loss: 0.0280 - val_loss: 0.0244\n",
      "Epoch 137/300\n",
      "11264/11264 [==============================] - 13s 1ms/step - loss: 0.0226 - val_loss: 0.0164\n",
      "Epoch 138/300\n",
      "11264/11264 [==============================] - 13s 1ms/step - loss: 0.0223 - val_loss: 0.0197\n",
      "Epoch 139/300\n",
      "11264/11264 [==============================] - 13s 1ms/step - loss: 0.0225 - val_loss: 0.0189\n",
      "Epoch 140/300\n",
      "11264/11264 [==============================] - 13s 1ms/step - loss: 0.0247 - val_loss: 0.0208\n",
      "Epoch 141/300\n",
      "11264/11264 [==============================] - 13s 1ms/step - loss: 0.0234 - val_loss: 0.0214\n",
      "Epoch 142/300\n",
      "11264/11264 [==============================] - 13s 1ms/step - loss: 0.0238 - val_loss: 0.0196\n",
      "Epoch 143/300\n",
      "11264/11264 [==============================] - 13s 1ms/step - loss: 0.0232 - val_loss: 0.0214\n",
      "Epoch 144/300\n",
      "11264/11264 [==============================] - 13s 1ms/step - loss: 0.0233 - val_loss: 0.0250\n",
      "Epoch 145/300\n",
      "11264/11264 [==============================] - 13s 1ms/step - loss: 0.0281 - val_loss: 0.0263\n",
      "Epoch 146/300\n",
      "11264/11264 [==============================] - 13s 1ms/step - loss: 0.0222 - val_loss: 0.0182\n",
      "Epoch 147/300\n",
      "11264/11264 [==============================] - 13s 1ms/step - loss: 0.0213 - val_loss: 0.0160\n",
      "Epoch 148/300\n",
      "11264/11264 [==============================] - 13s 1ms/step - loss: 0.0211 - val_loss: 0.0203\n",
      "Epoch 149/300\n",
      "11264/11264 [==============================] - 13s 1ms/step - loss: 0.0233 - val_loss: 0.0215\n",
      "Epoch 150/300\n",
      "11264/11264 [==============================] - 13s 1ms/step - loss: 0.0222 - val_loss: 0.0149\n",
      "Epoch 151/300\n",
      "11264/11264 [==============================] - 13s 1ms/step - loss: 0.0214 - val_loss: 0.0157\n",
      "Epoch 152/300\n",
      "11264/11264 [==============================] - 13s 1ms/step - loss: 0.0212 - val_loss: 0.0144\n",
      "Epoch 153/300\n"
     ]
    },
    {
     "name": "stdout",
     "output_type": "stream",
     "text": [
      "11264/11264 [==============================] - 13s 1ms/step - loss: 0.0214 - val_loss: 0.0210\n",
      "Epoch 154/300\n",
      "11264/11264 [==============================] - 13s 1ms/step - loss: 0.0222 - val_loss: 0.0166\n",
      "Epoch 155/300\n",
      "11264/11264 [==============================] - 13s 1ms/step - loss: 0.0220 - val_loss: 0.0186\n",
      "Epoch 156/300\n",
      "11264/11264 [==============================] - 13s 1ms/step - loss: 0.0230 - val_loss: 0.0184\n",
      "Epoch 157/300\n",
      "11264/11264 [==============================] - 13s 1ms/step - loss: 0.0219 - val_loss: 0.0171\n",
      "Epoch 158/300\n",
      "11264/11264 [==============================] - 13s 1ms/step - loss: 0.0206 - val_loss: 0.0197\n",
      "Epoch 159/300\n",
      "11264/11264 [==============================] - 13s 1ms/step - loss: 0.0201 - val_loss: 0.0185\n",
      "Epoch 160/300\n",
      "11264/11264 [==============================] - 13s 1ms/step - loss: 0.0318 - val_loss: 0.0427\n",
      "Epoch 161/300\n",
      "11264/11264 [==============================] - 13s 1ms/step - loss: 0.0265 - val_loss: 0.0198\n",
      "Epoch 162/300\n",
      "11264/11264 [==============================] - 13s 1ms/step - loss: 0.0192 - val_loss: 0.0133\n",
      "Epoch 163/300\n",
      "11264/11264 [==============================] - 13s 1ms/step - loss: 0.0294 - val_loss: 0.0252\n",
      "Epoch 164/300\n",
      "11264/11264 [==============================] - 13s 1ms/step - loss: 0.0253 - val_loss: 0.0189\n",
      "Epoch 165/300\n",
      "11264/11264 [==============================] - 13s 1ms/step - loss: 0.0247 - val_loss: 0.0156\n",
      "Epoch 166/300\n",
      "11264/11264 [==============================] - 13s 1ms/step - loss: 0.0216 - val_loss: 0.0146\n",
      "Epoch 167/300\n",
      "11264/11264 [==============================] - 13s 1ms/step - loss: 0.0199 - val_loss: 0.0149\n",
      "Epoch 168/300\n",
      "11264/11264 [==============================] - 13s 1ms/step - loss: 0.0208 - val_loss: 0.0187\n",
      "Epoch 169/300\n",
      "11264/11264 [==============================] - 13s 1ms/step - loss: 0.0225 - val_loss: 0.0165\n",
      "Epoch 170/300\n",
      "11264/11264 [==============================] - 13s 1ms/step - loss: 0.0259 - val_loss: 0.0302\n",
      "Epoch 171/300\n",
      "11264/11264 [==============================] - 13s 1ms/step - loss: 0.0283 - val_loss: 0.0156\n",
      "Epoch 172/300\n",
      "11264/11264 [==============================] - 13s 1ms/step - loss: 0.0211 - val_loss: 0.0253\n",
      "Epoch 173/300\n",
      "11264/11264 [==============================] - 13s 1ms/step - loss: 0.0227 - val_loss: 0.0243\n",
      "Epoch 174/300\n",
      "11264/11264 [==============================] - 13s 1ms/step - loss: 0.0269 - val_loss: 0.0157\n",
      "Epoch 175/300\n",
      "11264/11264 [==============================] - 13s 1ms/step - loss: 0.0181 - val_loss: 0.0144\n",
      "Epoch 176/300\n",
      "11264/11264 [==============================] - 13s 1ms/step - loss: 0.0193 - val_loss: 0.0155\n",
      "Epoch 177/300\n",
      "11264/11264 [==============================] - 13s 1ms/step - loss: 0.0188 - val_loss: 0.0196\n",
      "Epoch 178/300\n",
      "11264/11264 [==============================] - 13s 1ms/step - loss: 0.0202 - val_loss: 0.0141\n",
      "Epoch 179/300\n",
      "11264/11264 [==============================] - 13s 1ms/step - loss: 0.0188 - val_loss: 0.0130\n",
      "Epoch 180/300\n",
      "11264/11264 [==============================] - 13s 1ms/step - loss: 0.0196 - val_loss: 0.0181\n",
      "Epoch 181/300\n",
      "11264/11264 [==============================] - 13s 1ms/step - loss: 0.0212 - val_loss: 0.0141\n",
      "Epoch 182/300\n",
      "11264/11264 [==============================] - 13s 1ms/step - loss: 0.0206 - val_loss: 0.0149\n",
      "Epoch 183/300\n",
      "11264/11264 [==============================] - 13s 1ms/step - loss: 0.0235 - val_loss: 0.0141\n",
      "Epoch 184/300\n",
      "11264/11264 [==============================] - 13s 1ms/step - loss: 0.0188 - val_loss: 0.0164\n",
      "Epoch 185/300\n",
      "11264/11264 [==============================] - 13s 1ms/step - loss: 0.0166 - val_loss: 0.0125\n",
      "Epoch 186/300\n",
      "11264/11264 [==============================] - 13s 1ms/step - loss: 0.0186 - val_loss: 0.0200\n",
      "Epoch 187/300\n",
      "11264/11264 [==============================] - 13s 1ms/step - loss: 0.0206 - val_loss: 0.0138\n",
      "Epoch 188/300\n",
      "11264/11264 [==============================] - 13s 1ms/step - loss: 0.0201 - val_loss: 0.0148\n",
      "Epoch 189/300\n",
      "11264/11264 [==============================] - 13s 1ms/step - loss: 0.0189 - val_loss: 0.0135\n",
      "Epoch 190/300\n",
      "11264/11264 [==============================] - 13s 1ms/step - loss: 0.0209 - val_loss: 0.0223\n",
      "Epoch 191/300\n",
      "11264/11264 [==============================] - 13s 1ms/step - loss: 0.0178 - val_loss: 0.0163\n",
      "Epoch 192/300\n",
      "11264/11264 [==============================] - 13s 1ms/step - loss: 0.0210 - val_loss: 0.0191\n",
      "Epoch 193/300\n",
      "11264/11264 [==============================] - 14s 1ms/step - loss: 0.0236 - val_loss: 0.0186\n",
      "Epoch 194/300\n",
      "11264/11264 [==============================] - 13s 1ms/step - loss: 0.0201 - val_loss: 0.0241\n",
      "Epoch 195/300\n",
      "11264/11264 [==============================] - 13s 1ms/step - loss: 0.0178 - val_loss: 0.0116\n",
      "Epoch 196/300\n",
      "11264/11264 [==============================] - 13s 1ms/step - loss: 0.0160 - val_loss: 0.0136\n",
      "Epoch 197/300\n",
      "11264/11264 [==============================] - 13s 1ms/step - loss: 0.0196 - val_loss: 0.0152\n",
      "Epoch 198/300\n",
      "11264/11264 [==============================] - 13s 1ms/step - loss: 0.0178 - val_loss: 0.0160\n",
      "Epoch 199/300\n",
      "11264/11264 [==============================] - 13s 1ms/step - loss: 0.0182 - val_loss: 0.0184\n",
      "Epoch 200/300\n",
      "11264/11264 [==============================] - 13s 1ms/step - loss: 0.0288 - val_loss: 0.0475\n",
      "Epoch 201/300\n",
      "11264/11264 [==============================] - 13s 1ms/step - loss: 0.0263 - val_loss: 0.0129\n",
      "Epoch 202/300\n",
      "11264/11264 [==============================] - 13s 1ms/step - loss: 0.0164 - val_loss: 0.0116\n",
      "Epoch 203/300\n",
      "11264/11264 [==============================] - 13s 1ms/step - loss: 0.0179 - val_loss: 0.0187\n",
      "Epoch 204/300\n",
      "11264/11264 [==============================] - 13s 1ms/step - loss: 0.0200 - val_loss: 0.0127\n",
      "Epoch 205/300\n",
      "11264/11264 [==============================] - 13s 1ms/step - loss: 0.0163 - val_loss: 0.0176\n",
      "Epoch 206/300\n",
      "11264/11264 [==============================] - 13s 1ms/step - loss: 0.0195 - val_loss: 0.0161\n",
      "Epoch 207/300\n",
      "11264/11264 [==============================] - 13s 1ms/step - loss: 0.0167 - val_loss: 0.0134\n",
      "Epoch 208/300\n",
      "11264/11264 [==============================] - 13s 1ms/step - loss: 0.0189 - val_loss: 0.0145\n",
      "Epoch 209/300\n",
      "11264/11264 [==============================] - 13s 1ms/step - loss: 0.0182 - val_loss: 0.0142\n",
      "Epoch 210/300\n",
      "11264/11264 [==============================] - 13s 1ms/step - loss: 0.0183 - val_loss: 0.0119\n",
      "Epoch 211/300\n",
      "11264/11264 [==============================] - 13s 1ms/step - loss: 0.0195 - val_loss: 0.0267\n",
      "Epoch 212/300\n",
      "11264/11264 [==============================] - 13s 1ms/step - loss: 0.0199 - val_loss: 0.0186\n",
      "Epoch 213/300\n",
      "11264/11264 [==============================] - 13s 1ms/step - loss: 0.0165 - val_loss: 0.0121\n",
      "Epoch 214/300\n",
      "11264/11264 [==============================] - 13s 1ms/step - loss: 0.0171 - val_loss: 0.0159\n",
      "Epoch 215/300\n",
      "11264/11264 [==============================] - 13s 1ms/step - loss: 0.0161 - val_loss: 0.0142\n",
      "Epoch 216/300\n",
      "11264/11264 [==============================] - 13s 1ms/step - loss: 0.0179 - val_loss: 0.0114\n",
      "Epoch 217/300\n",
      "11264/11264 [==============================] - 13s 1ms/step - loss: 0.0163 - val_loss: 0.0123\n",
      "Epoch 218/300\n",
      "11264/11264 [==============================] - 13s 1ms/step - loss: 0.0212 - val_loss: 0.0128\n",
      "Epoch 219/300\n",
      "11264/11264 [==============================] - 13s 1ms/step - loss: 0.0167 - val_loss: 0.0166\n",
      "Epoch 220/300\n",
      "11264/11264 [==============================] - 13s 1ms/step - loss: 0.0180 - val_loss: 0.0170\n",
      "Epoch 221/300\n",
      "11264/11264 [==============================] - 13s 1ms/step - loss: 0.0152 - val_loss: 0.0111\n",
      "Epoch 222/300\n",
      "11264/11264 [==============================] - 13s 1ms/step - loss: 0.0143 - val_loss: 0.0119\n",
      "Epoch 223/300\n",
      "11264/11264 [==============================] - 13s 1ms/step - loss: 0.0170 - val_loss: 0.0310\n",
      "Epoch 224/300\n",
      "11264/11264 [==============================] - 13s 1ms/step - loss: 0.0212 - val_loss: 0.0116\n",
      "Epoch 225/300\n",
      "11264/11264 [==============================] - 13s 1ms/step - loss: 0.0159 - val_loss: 0.0124\n",
      "Epoch 226/300\n",
      "11264/11264 [==============================] - 13s 1ms/step - loss: 0.0154 - val_loss: 0.0108\n",
      "Epoch 227/300\n",
      "11264/11264 [==============================] - 13s 1ms/step - loss: 0.0146 - val_loss: 0.0151\n",
      "Epoch 228/300\n",
      "11264/11264 [==============================] - 13s 1ms/step - loss: 0.0203 - val_loss: 0.0229\n"
     ]
    },
    {
     "name": "stdout",
     "output_type": "stream",
     "text": [
      "Epoch 229/300\n",
      "11264/11264 [==============================] - 13s 1ms/step - loss: 0.0168 - val_loss: 0.0106\n",
      "Epoch 230/300\n",
      "11264/11264 [==============================] - 13s 1ms/step - loss: 0.0147 - val_loss: 0.0126\n",
      "Epoch 231/300\n",
      "11264/11264 [==============================] - 13s 1ms/step - loss: 0.0174 - val_loss: 0.0123\n",
      "Epoch 232/300\n",
      "11264/11264 [==============================] - 13s 1ms/step - loss: 0.0151 - val_loss: 0.0135\n",
      "Epoch 233/300\n",
      "11264/11264 [==============================] - 13s 1ms/step - loss: 0.0161 - val_loss: 0.0159\n",
      "Epoch 234/300\n",
      "11264/11264 [==============================] - 13s 1ms/step - loss: 0.0184 - val_loss: 0.0168\n",
      "Epoch 235/300\n",
      "11264/11264 [==============================] - 13s 1ms/step - loss: 0.0165 - val_loss: 0.0176\n",
      "Epoch 236/300\n",
      "11264/11264 [==============================] - 13s 1ms/step - loss: 0.0193 - val_loss: 0.0137\n",
      "Epoch 237/300\n",
      "11264/11264 [==============================] - 13s 1ms/step - loss: 0.0156 - val_loss: 0.0105\n",
      "Epoch 238/300\n",
      "11264/11264 [==============================] - 13s 1ms/step - loss: 0.0146 - val_loss: 0.0111\n",
      "Epoch 239/300\n",
      "11264/11264 [==============================] - 13s 1ms/step - loss: 0.0163 - val_loss: 0.0158\n",
      "Epoch 240/300\n",
      "11264/11264 [==============================] - 13s 1ms/step - loss: 0.0153 - val_loss: 0.0104\n",
      "Epoch 241/300\n",
      "11264/11264 [==============================] - 13s 1ms/step - loss: 0.0203 - val_loss: 0.0147\n",
      "Epoch 242/300\n",
      "11264/11264 [==============================] - 13s 1ms/step - loss: 0.0220 - val_loss: 0.0164\n",
      "Epoch 243/300\n",
      "11264/11264 [==============================] - 13s 1ms/step - loss: 0.0165 - val_loss: 0.0104\n",
      "Epoch 244/300\n",
      "11264/11264 [==============================] - 13s 1ms/step - loss: 0.0148 - val_loss: 0.0100\n",
      "Epoch 245/300\n",
      "11264/11264 [==============================] - 14s 1ms/step - loss: 0.0156 - val_loss: 0.0132\n",
      "Epoch 246/300\n",
      "11264/11264 [==============================] - 13s 1ms/step - loss: 0.0161 - val_loss: 0.0106\n",
      "Epoch 247/300\n",
      "11264/11264 [==============================] - 13s 1ms/step - loss: 0.0150 - val_loss: 0.0133\n",
      "Epoch 248/300\n",
      "11264/11264 [==============================] - 13s 1ms/step - loss: 0.0205 - val_loss: 0.0120\n",
      "Epoch 249/300\n",
      "11264/11264 [==============================] - 13s 1ms/step - loss: 0.0152 - val_loss: 0.0094\n",
      "Epoch 250/300\n",
      "11264/11264 [==============================] - 13s 1ms/step - loss: 0.0175 - val_loss: 0.0107\n",
      "Epoch 251/300\n",
      "11264/11264 [==============================] - 13s 1ms/step - loss: 0.0156 - val_loss: 0.0120\n",
      "Epoch 252/300\n",
      "11264/11264 [==============================] - 13s 1ms/step - loss: 0.0210 - val_loss: 0.0116\n",
      "Epoch 253/300\n",
      "11264/11264 [==============================] - 13s 1ms/step - loss: 0.0125 - val_loss: 0.0086\n",
      "Epoch 254/300\n",
      "11264/11264 [==============================] - 13s 1ms/step - loss: 0.0135 - val_loss: 0.0103\n",
      "Epoch 255/300\n",
      "11264/11264 [==============================] - 13s 1ms/step - loss: 0.0247 - val_loss: 0.0187\n",
      "Epoch 256/300\n",
      "11264/11264 [==============================] - 13s 1ms/step - loss: 0.0145 - val_loss: 0.0101\n",
      "Epoch 257/300\n",
      "11264/11264 [==============================] - 13s 1ms/step - loss: 0.0144 - val_loss: 0.0113\n",
      "Epoch 258/300\n",
      "11264/11264 [==============================] - 13s 1ms/step - loss: 0.0150 - val_loss: 0.0155\n",
      "Epoch 259/300\n",
      "11264/11264 [==============================] - 13s 1ms/step - loss: 0.0161 - val_loss: 0.0105\n",
      "Epoch 260/300\n",
      "11264/11264 [==============================] - 13s 1ms/step - loss: 0.0191 - val_loss: 0.0172\n",
      "Epoch 261/300\n",
      "11264/11264 [==============================] - 13s 1ms/step - loss: 0.0151 - val_loss: 0.0137\n",
      "Epoch 262/300\n",
      "11264/11264 [==============================] - 13s 1ms/step - loss: 0.0150 - val_loss: 0.0126\n",
      "Epoch 263/300\n",
      "11264/11264 [==============================] - 13s 1ms/step - loss: 0.0137 - val_loss: 0.0091\n",
      "Epoch 264/300\n",
      "11264/11264 [==============================] - 13s 1ms/step - loss: 0.0163 - val_loss: 0.0170\n",
      "Epoch 265/300\n",
      "11264/11264 [==============================] - 13s 1ms/step - loss: 0.0143 - val_loss: 0.0182\n",
      "Epoch 266/300\n",
      "11264/11264 [==============================] - 13s 1ms/step - loss: 0.0160 - val_loss: 0.0093\n",
      "Epoch 267/300\n",
      "11264/11264 [==============================] - 13s 1ms/step - loss: 0.0204 - val_loss: 0.0117\n",
      "Epoch 268/300\n",
      "11264/11264 [==============================] - 13s 1ms/step - loss: 0.0128 - val_loss: 0.0084\n",
      "Epoch 269/300\n",
      "11264/11264 [==============================] - 13s 1ms/step - loss: 0.0151 - val_loss: 0.0228\n",
      "Epoch 270/300\n",
      "11264/11264 [==============================] - 13s 1ms/step - loss: 0.0196 - val_loss: 0.0116\n",
      "Epoch 271/300\n",
      "11264/11264 [==============================] - 13s 1ms/step - loss: 0.0172 - val_loss: 0.0084\n",
      "Epoch 272/300\n",
      "11264/11264 [==============================] - 13s 1ms/step - loss: 0.0162 - val_loss: 0.0200\n",
      "Epoch 273/300\n",
      "11264/11264 [==============================] - 13s 1ms/step - loss: 0.0151 - val_loss: 0.0109\n",
      "Epoch 274/300\n",
      "11264/11264 [==============================] - 13s 1ms/step - loss: 0.0137 - val_loss: 0.0082\n",
      "Epoch 275/300\n",
      "11264/11264 [==============================] - 13s 1ms/step - loss: 0.0165 - val_loss: 0.0117\n",
      "Epoch 276/300\n",
      "11264/11264 [==============================] - 13s 1ms/step - loss: 0.0133 - val_loss: 0.0089\n",
      "Epoch 277/300\n",
      "11264/11264 [==============================] - 13s 1ms/step - loss: 0.0134 - val_loss: 0.0150\n",
      "Epoch 278/300\n",
      "11264/11264 [==============================] - 13s 1ms/step - loss: 0.0127 - val_loss: 0.0080\n",
      "Epoch 279/300\n",
      "11264/11264 [==============================] - 13s 1ms/step - loss: 0.0136 - val_loss: 0.0257\n",
      "Epoch 280/300\n",
      "11264/11264 [==============================] - 13s 1ms/step - loss: 0.0162 - val_loss: 0.0079\n",
      "Epoch 281/300\n",
      "11264/11264 [==============================] - 13s 1ms/step - loss: 0.0111 - val_loss: 0.0086\n",
      "Epoch 282/300\n",
      "11264/11264 [==============================] - 13s 1ms/step - loss: 0.0139 - val_loss: 0.0108\n",
      "Epoch 283/300\n",
      "11264/11264 [==============================] - 13s 1ms/step - loss: 0.0241 - val_loss: 0.0155\n",
      "Epoch 284/300\n",
      "11264/11264 [==============================] - 13s 1ms/step - loss: 0.0144 - val_loss: 0.0120\n",
      "Epoch 285/300\n",
      "11264/11264 [==============================] - 13s 1ms/step - loss: 0.0126 - val_loss: 0.0091\n",
      "Epoch 286/300\n",
      "11264/11264 [==============================] - 13s 1ms/step - loss: 0.0125 - val_loss: 0.0076\n",
      "Epoch 287/300\n",
      "11264/11264 [==============================] - 13s 1ms/step - loss: 0.0142 - val_loss: 0.0143\n",
      "Epoch 288/300\n",
      "11264/11264 [==============================] - 13s 1ms/step - loss: 0.0119 - val_loss: 0.0081\n",
      "Epoch 289/300\n",
      "11264/11264 [==============================] - 13s 1ms/step - loss: 0.0197 - val_loss: 0.0168\n",
      "Epoch 290/300\n",
      "11264/11264 [==============================] - 13s 1ms/step - loss: 0.0171 - val_loss: 0.0106\n",
      "Epoch 291/300\n",
      "11264/11264 [==============================] - 13s 1ms/step - loss: 0.0160 - val_loss: 0.0127\n",
      "Epoch 292/300\n",
      "11264/11264 [==============================] - 13s 1ms/step - loss: 0.0271 - val_loss: 0.0129\n",
      "Epoch 293/300\n",
      "11264/11264 [==============================] - 13s 1ms/step - loss: 0.0147 - val_loss: 0.0086\n",
      "Epoch 294/300\n",
      "11264/11264 [==============================] - 13s 1ms/step - loss: 0.0126 - val_loss: 0.0090\n",
      "Epoch 295/300\n",
      "11264/11264 [==============================] - 13s 1ms/step - loss: 0.0144 - val_loss: 0.0131\n",
      "Epoch 296/300\n",
      "11264/11264 [==============================] - 13s 1ms/step - loss: 0.0133 - val_loss: 0.0098\n",
      "Epoch 297/300\n",
      "11264/11264 [==============================] - 13s 1ms/step - loss: 0.0147 - val_loss: 0.0110\n",
      "Epoch 298/300\n",
      "11264/11264 [==============================] - 13s 1ms/step - loss: 0.0127 - val_loss: 0.0171\n",
      "Epoch 299/300\n",
      "11264/11264 [==============================] - 13s 1ms/step - loss: 0.0124 - val_loss: 0.0109\n",
      "Epoch 300/300\n",
      "11264/11264 [==============================] - 13s 1ms/step - loss: 0.0130 - val_loss: 0.0081\n"
     ]
    }
   ],
   "source": [
    "'''\n",
    "you can test with 10 epochs to make sure code works \n",
    "'''\n",
    "history=model.fit(train_X_norm, train_Y, batch_size=256,shuffle=True,epochs=300,validation_data=(val_X_norm,val_Y),callbacks=es)"
   ]
  },
  {
   "cell_type": "code",
   "execution_count": 44,
   "metadata": {},
   "outputs": [
    {
     "data": {
      "image/png": "[encoded data removed]",
      "text/plain": [
       "<Figure size 432x288 with 1 Axes>"
      ]
     },
     "metadata": {},
     "output_type": "display_data"
    }
   ],
   "source": [
    "train_loss = history.history['loss']\n",
    "val_loss = history.history['val_loss']\n",
    "\n",
    "epochs = range(len(train_loss))\n",
    "\n",
    "plt.figure()\n",
    "\n",
    "plt.plot(epochs, train_loss, 'ro', label='Training loss')\n",
    "plt.plot(epochs, val_loss, 'r', label='Validation loss')\n",
    "plt.title('Training and validation loss')\n",
    "plt.legend()\n",
    "\n",
    "plt.show();"
   ]
  },
  {
   "cell_type": "code",
   "execution_count": 31,
   "metadata": {
    "collapsed": true
   },
   "outputs": [],
   "source": [
    "model=load_model('seq2seq150seq.h5')"
   ]
  },
  {
   "cell_type": "code",
   "execution_count": 32,
   "metadata": {
    "collapsed": true
   },
   "outputs": [],
   "source": [
    "pred_train=model.predict(train_X_norm)"
   ]
  },
  {
   "cell_type": "code",
   "execution_count": 33,
   "metadata": {},
   "outputs": [
    {
     "data": {
      "text/plain": [
       "(11264, 150, 5)"
      ]
     },
     "execution_count": 33,
     "metadata": {},
     "output_type": "execute_result"
    }
   ],
   "source": [
    "pred_train.shape"
   ]
  },
  {
   "cell_type": "markdown",
   "metadata": {},
   "source": [
    "** Reconstruction of the input sequence on training sample shows low reconstruction error**"
   ]
  },
  {
   "cell_type": "code",
   "execution_count": 34,
   "metadata": {},
   "outputs": [
    {
     "data": {
      "image/png": "[encoded data removed]",
      "text/plain": [
       "<matplotlib.figure.Figure at 0x19c72d712b0>"
      ]
     },
     "metadata": {},
     "output_type": "display_data"
    }
   ],
   "source": [
    "plt.plot(train_Y[5][:,3],label=\"Actual\")\n",
    "plt.plot(pred_train[5][:,3],label=\"reproduced\")\n",
    "plt.legend()\n",
    "plt.show();"
   ]
  },
  {
   "cell_type": "code",
   "execution_count": 35,
   "metadata": {
    "collapsed": true
   },
   "outputs": [],
   "source": [
    "pred_val=model.predict(val_X_norm)"
   ]
  },
  {
   "cell_type": "markdown",
   "metadata": {},
   "source": [
    "** Reconstruction of the input sequence on Validation and test samples show low reconstruction error**"
   ]
  },
  {
   "cell_type": "code",
   "execution_count": 36,
   "metadata": {},
   "outputs": [
    {
     "data": {
      "image/png": "[encoded data removed]",
      "text/plain": [
       "<matplotlib.figure.Figure at 0x19c94f92be0>"
      ]
     },
     "metadata": {},
     "output_type": "display_data"
    }
   ],
   "source": [
    "plt.plot(val_Y[5][:,3],label=\"Actual\")\n",
    "plt.plot(pred_val[5][:,3],label=\"reproduced\")\n",
    "plt.legend()\n",
    "plt.show();"
   ]
  },
  {
   "cell_type": "code",
   "execution_count": 37,
   "metadata": {
    "collapsed": true
   },
   "outputs": [],
   "source": [
    "pred_test=model.predict(test_X_norm)"
   ]
  },
  {
   "cell_type": "code",
   "execution_count": 38,
   "metadata": {},
   "outputs": [
    {
     "data": {
      "text/plain": [
       "(1565, 150, 5)"
      ]
     },
     "execution_count": 38,
     "metadata": {},
     "output_type": "execute_result"
    }
   ],
   "source": [
    "pred_test.shape"
   ]
  },
  {
   "cell_type": "code",
   "execution_count": 39,
   "metadata": {},
   "outputs": [
    {
     "data": {
      "image/png": "[encoded data removed]",
      "text/plain": [
       "<matplotlib.figure.Figure at 0x19c949e25c0>"
      ]
     },
     "metadata": {},
     "output_type": "display_data"
    }
   ],
   "source": [
    "plt.plot(test_Y[190][:,1],label=\"Actual\")\n",
    "plt.plot(pred_test[190][:,1],label=\"reproduced\")\n",
    "plt.legend()\n",
    "plt.show();"
   ]
  },
  {
   "cell_type": "code",
   "execution_count": 41,
   "metadata": {
    "collapsed": true
   },
   "outputs": [],
   "source": [
    "pred_flt=model.predict(train_flt_nseq)"
   ]
  },
  {
   "cell_type": "markdown",
   "metadata": {},
   "source": [
    "** How does reconstruction error look on faulty data?**"
   ]
  },
  {
   "cell_type": "code",
   "execution_count": 42,
   "metadata": {},
   "outputs": [
    {
     "data": {
      "image/png": "[encoded data removed]",
      "text/plain": [
       "<matplotlib.figure.Figure at 0x19c94a3eda0>"
      ]
     },
     "metadata": {},
     "output_type": "display_data"
    }
   ],
   "source": [
    "plt.plot(train_flt_nseq[1000][:,2],label=\"Actual\")\n",
    "plt.plot(pred_flt[1000][:,2],label=\"reproduced\")\n",
    "plt.legend()\n",
    "plt.show();"
   ]
  },
  {
   "cell_type": "code",
   "execution_count": 43,
   "metadata": {
    "collapsed": true
   },
   "outputs": [],
   "source": [
    "train_error=[mean_squared_error(train_Y[i],pred_train[i]) for i in range(len(train_Y))]"
   ]
  },
  {
   "cell_type": "code",
   "execution_count": 44,
   "metadata": {
    "collapsed": true
   },
   "outputs": [],
   "source": [
    "test_error=[mean_squared_error(test_Y[i],pred_test[i]) for i in range(len(test_Y))]"
   ]
  },
  {
   "cell_type": "code",
   "execution_count": 45,
   "metadata": {
    "collapsed": true
   },
   "outputs": [],
   "source": [
    "flt_error=[mean_squared_error(train_flt_nseq[i],pred_flt[i]) for i in range(len(pred_flt))]"
   ]
  },
  {
   "cell_type": "markdown",
   "metadata": {},
   "source": [
    "** Overall reconstruction error on faulty data is 10x higher than reconstruction of normal data** "
   ]
  },
  {
   "cell_type": "code",
   "execution_count": 46,
   "metadata": {},
   "outputs": [
    {
     "name": "stdout",
     "output_type": "stream",
     "text": [
      "0.0105439 0.00694731 0.0884826\n"
     ]
    }
   ],
   "source": [
    "print(np.mean(np.asarray(train_error)),np.mean(np.asarray(test_error)), np.mean(np.asarray(flt_error)))"
   ]
  },
  {
   "cell_type": "markdown",
   "metadata": {},
   "source": [
    "### Building a classifier on reconstruction error\n",
    "\n",
    "1. We will generate one row per sequence, where each row has min, max, mean, kurtosis, and variance of each sensor reconstruction error\n",
    "2. This will give us a data set of n rows of normal reconstruction errors statistics, and m rows of faulty reconstruction errors\n",
    "3. We will train a random forest on this data to identify faults"
   ]
  },
  {
   "cell_type": "code",
   "execution_count": 47,
   "metadata": {
    "collapsed": true
   },
   "outputs": [],
   "source": [
    "'''\n",
    "concatenating all normal datasets into a single array\n",
    "'''\n",
    "norm_arr=np.vstack((train_X_norm,val_X_norm,test_X_norm))"
   ]
  },
  {
   "cell_type": "code",
   "execution_count": 48,
   "metadata": {
    "collapsed": true
   },
   "outputs": [],
   "source": [
    "'''\n",
    "concatenating all predictions on normal datasets into a single array\n",
    "'''\n",
    "norm_pred_arr=np.vstack((pred_train,pred_val,pred_test))"
   ]
  },
  {
   "cell_type": "code",
   "execution_count": 49,
   "metadata": {
    "collapsed": true
   },
   "outputs": [],
   "source": [
    "'''\n",
    "creating residual array for normal data \n",
    "'''\n",
    "norm_resid_arr=norm_arr-norm_pred_arr"
   ]
  },
  {
   "cell_type": "code",
   "execution_count": 50,
   "metadata": {
    "collapsed": true
   },
   "outputs": [],
   "source": [
    "'''\n",
    "creating residual array for faulty data \n",
    "'''\n",
    "flt_resid_arr=train_flt_nseq-pred_flt"
   ]
  },
  {
   "cell_type": "code",
   "execution_count": 29,
   "metadata": {
    "collapsed": true
   },
   "outputs": [],
   "source": [
    "def create_dist(arr_list):\n",
    "    \n",
    "    '''\n",
    "    this function takes as input a list of arrays or a 3D tensor (NxMxF)\n",
    "    it applies scipy stats function to each list of arrays \n",
    "    Returns a 2 D array (NxW)\n",
    "    '''\n",
    "    \n",
    "    norm_dist=[stats.describe(arr_list[i]) for i in range(len(arr_list))]\n",
    "    \n",
    "    normdistarrlist=[np.hstack(np.asarray((norm_dist[i].minmax[0],norm_dist[i].minmax[1],norm_dist[i].mean,norm_dist[i].variance,\n",
    "                               norm_dist[i].kurtosis))) for i in range(len(norm_dist))]\n",
    "    \n",
    "    return np.vstack(normdistarrlist)"
   ]
  },
  {
   "cell_type": "code",
   "execution_count": 53,
   "metadata": {
    "collapsed": true
   },
   "outputs": [],
   "source": [
    "normdistarr=create_dist(norm_resid_arr)"
   ]
  },
  {
   "cell_type": "code",
   "execution_count": 54,
   "metadata": {},
   "outputs": [
    {
     "data": {
      "text/plain": [
       "(15646, 25)"
      ]
     },
     "execution_count": 54,
     "metadata": {},
     "output_type": "execute_result"
    }
   ],
   "source": [
    "normdistarr.shape"
   ]
  },
  {
   "cell_type": "markdown",
   "metadata": {},
   "source": [
    "** Repeating the process above for the faulty data**"
   ]
  },
  {
   "cell_type": "code",
   "execution_count": 57,
   "metadata": {
    "collapsed": true
   },
   "outputs": [],
   "source": [
    "fltdistarr=create_dist(flt_resid_arr)"
   ]
  },
  {
   "cell_type": "code",
   "execution_count": 58,
   "metadata": {},
   "outputs": [
    {
     "data": {
      "text/plain": [
       "(1950, 25)"
      ]
     },
     "execution_count": 58,
     "metadata": {},
     "output_type": "execute_result"
    }
   ],
   "source": [
    "fltdistarr.shape"
   ]
  },
  {
   "cell_type": "code",
   "execution_count": 59,
   "metadata": {
    "collapsed": true
   },
   "outputs": [],
   "source": [
    "'''\n",
    "add fault=0 to to normal data \n",
    "'''\n",
    "norm_resid=np.hstack((normdistarr,np.zeros((normdistarr.shape[0],1))))"
   ]
  },
  {
   "cell_type": "code",
   "execution_count": 60,
   "metadata": {
    "collapsed": true
   },
   "outputs": [],
   "source": [
    "'''\n",
    "add fault=1 to to normal data \n",
    "'''\n",
    "flt_resid=np.hstack((fltdistarr,np.ones((fltdistarr.shape[0],1))))"
   ]
  },
  {
   "cell_type": "code",
   "execution_count": 61,
   "metadata": {
    "collapsed": true
   },
   "outputs": [],
   "source": [
    "resid_all=np.vstack((norm_resid,flt_resid))"
   ]
  },
  {
   "cell_type": "code",
   "execution_count": 62,
   "metadata": {},
   "outputs": [
    {
     "data": {
      "text/plain": [
       "(17596, 26)"
      ]
     },
     "execution_count": 62,
     "metadata": {},
     "output_type": "execute_result"
    }
   ],
   "source": [
    "resid_all.shape"
   ]
  },
  {
   "cell_type": "code",
   "execution_count": 63,
   "metadata": {
    "collapsed": true
   },
   "outputs": [],
   "source": [
    "'''\n",
    "stacking up all residual statistics into a dataframe \n",
    "'''\n",
    "dfX=pd.DataFrame(resid_all[:,:-1]).join(pd.DataFrame(resid_all[:,-1],columns=['fault']))"
   ]
  },
  {
   "cell_type": "code",
   "execution_count": 64,
   "metadata": {
    "collapsed": true
   },
   "outputs": [],
   "source": [
    "def split_data(data_df,category,nsplit,testsize,random=2301):\n",
    "    trainsplit  =  StratifiedShuffleSplit ( n_splits = nsplit ,  test_size = testsize ,  random_state = random )\n",
    "    \n",
    "    \"\"\"\n",
    "    n_splits is for number of splits\n",
    "    test_size is % size from the entire population(between 0 and 1) for the test data set\n",
    "    random_state this is used to generate repeatable results next time we run this code again\n",
    "    \"\"\"\n",
    "    for  train_index ,  test_index  in  trainsplit . split ( data_df ,  data_df[category]):\n",
    "        strat_train_set  =  data_df.loc [train_index ]\n",
    "        strat_test_set  =  data_df.loc[test_index ]\n",
    "        \n",
    "    \"\"\" \n",
    "    stratifying by classification variables\n",
    "        \n",
    "    \"\"\"\n",
    "    return strat_train_set,strat_test_set"
   ]
  },
  {
   "cell_type": "code",
   "execution_count": 65,
   "metadata": {
    "collapsed": true
   },
   "outputs": [],
   "source": [
    "train_df,test_df =split_data(data_df=dfX,category=[\"fault\"],nsplit=1,testsize=0.1)\n",
    "\n",
    "X_train=train_df.iloc[:,:-1].values\n",
    "\n",
    "X_test=test_df.iloc[:,:-1].values\n",
    "y_train=train_df[\"fault\"].values\n",
    "y_test=test_df[\"fault\"].values;"
   ]
  },
  {
   "cell_type": "code",
   "execution_count": 66,
   "metadata": {
    "collapsed": true
   },
   "outputs": [],
   "source": [
    "'''\n",
    "- Setting hyperparameters for Random Forest, adjust number of trees range between 100 and 1000 \n",
    "Call the Random Forest Classifier, seed=2301\n",
    "- use CV=5 to 10 for GridSearch\n",
    "'''\n",
    "# Enter your code here ~3 lines\n",
    "params={'n_estimators':[100,500,1000],'max_depth': [3,100,1000],'min_samples_split':[2,10]}\n",
    "ranf_clf=RandomForestClassifier(random_state=2301,n_jobs=-1)\n",
    "gs_ranf_clf=GridSearchCV(estimator=ranf_clf,param_grid=params,cv=5,return_train_score=False)"
   ]
  },
  {
   "cell_type": "code",
   "execution_count": 83,
   "metadata": {
    "collapsed": true
   },
   "outputs": [],
   "source": [
    "'''\n",
    "- We will now fit the model and predict the training data set\n",
    "'''\n",
    "# Enter your code here ~ 2 line\n",
    "gs_ranf_clf=gs_ranf_clf.fit(X_train, y_train)"
   ]
  },
  {
   "cell_type": "code",
   "execution_count": 85,
   "metadata": {
    "collapsed": true
   },
   "outputs": [],
   "source": [
    "joblib.dump(gs_ranf_clf.best_estimator_,'ranfresid150.pkl');"
   ]
  },
  {
   "cell_type": "markdown",
   "metadata": {},
   "source": [
    "** The results below show slightly overfit model on the training data**\n",
    "- Accuracy value is for Validation, while confusion matrix is on training"
   ]
  },
  {
   "cell_type": "code",
   "execution_count": 86,
   "metadata": {},
   "outputs": [
    {
     "name": "stdout",
     "output_type": "stream",
     "text": [
      "accuracy:\n",
      "0.9702576408183885\n",
      "Confusion matrix:\n",
      "[[14081     0]\n",
      " [    0  1755]]\n"
     ]
    }
   ],
   "source": [
    "train_pred_ranf=gs_ranf_clf.predict(X_train)\n",
    "#code ends here\n",
    "\n",
    "ranfcv_acc=gs_ranf_clf.best_score_\n",
    "confusion = confusion_matrix(y_train, train_pred_ranf)\n",
    "print(\"accuracy:\\n{}\".format(ranfcv_acc))\n",
    "print(\"Confusion matrix:\\n{}\".format(confusion))"
   ]
  },
  {
   "cell_type": "code",
   "execution_count": 87,
   "metadata": {
    "collapsed": true
   },
   "outputs": [],
   "source": [
    "pred_test=gs_ranf_clf.predict(X_test)"
   ]
  },
  {
   "cell_type": "code",
   "execution_count": 88,
   "metadata": {},
   "outputs": [
    {
     "name": "stdout",
     "output_type": "stream",
     "text": [
      "accuracy:\n",
      "0.9744318181818182\n",
      "Confusion matrix:\n",
      "[[1552   13]\n",
      " [  32  163]]\n"
     ]
    }
   ],
   "source": [
    "acc_test=accuracy_score(y_test, pred_test)\n",
    "confusion = confusion_matrix(y_test, pred_test)\n",
    "print(\"accuracy:\\n{}\".format(acc_test))\n",
    "print(\"Confusion matrix:\\n{}\".format(confusion))"
   ]
  },
  {
   "cell_type": "code",
   "execution_count": 67,
   "metadata": {
    "collapsed": true
   },
   "outputs": [],
   "source": [
    "def plot_confusion_matrix(cm, classes,\n",
    "                          normalize=False,\n",
    "                          title='Confusion matrix',\n",
    "                          cmap=plt.cm.Blues):\n",
    "    \"\"\"\n",
    "    This function prints and plots the confusion matrix.\n",
    "    Normalization can be applied by setting `normalize=True`.\n",
    "    \"\"\"\n",
    "    if normalize:\n",
    "        cm = cm.astype('float') / cm.sum(axis=1)[:, np.newaxis]\n",
    "        print(\"Normalized confusion matrix\")\n",
    "    else:\n",
    "        print('Confusion matrix, without normalization')\n",
    "\n",
    "    print(cm)\n",
    "\n",
    "    plt.imshow(cm, interpolation='nearest', cmap=cmap)\n",
    "    plt.title(title)\n",
    "    plt.colorbar()\n",
    "    tick_marks = np.arange(len(classes))\n",
    "    plt.xticks(tick_marks, classes, rotation=45)\n",
    "    plt.yticks(tick_marks, classes)\n",
    "\n",
    "    fmt = '.2f' if normalize else 'd'\n",
    "    thresh = cm.max() / 2.\n",
    "    for i, j in itertools.product(range(cm.shape[0]), range(cm.shape[1])):\n",
    "        plt.text(j, i, format(cm[i, j], fmt),\n",
    "                 horizontalalignment=\"center\",\n",
    "                 color=\"white\" if cm[i, j] > thresh else \"black\")\n",
    "\n",
    "    plt.tight_layout()\n",
    "    plt.ylabel('True label')\n",
    "    plt.xlabel('Predicted label')"
   ]
  },
  {
   "cell_type": "code",
   "execution_count": 90,
   "metadata": {},
   "outputs": [
    {
     "name": "stdout",
     "output_type": "stream",
     "text": [
      "Normalized confusion matrix\n",
      "[[ 0.99169329  0.00830671]\n",
      " [ 0.16410256  0.83589744]]\n"
     ]
    },
    {
     "data": {
      "image/png": "[encoded data removed]",
      "text/plain": [
       "<Figure size 432x288 with 2 Axes>"
      ]
     },
     "metadata": {},
     "output_type": "display_data"
    }
   ],
   "source": [
    "plot_confusion_matrix(confusion,classes=['normal','faulty'],normalize=True)"
   ]
  }
 ],
 "metadata": {
  "kernelspec": {
   "display_name": "Python 3",
   "language": "python",
   "name": "python3"
  },
  "language_info": {
   "codemirror_mode": {
    "name": "ipython",
    "version": 3
   },
   "file_extension": ".py",
   "mimetype": "text/x-python",
   "name": "python",
   "nbconvert_exporter": "python",
   "pygments_lexer": "ipython3",
   "version": "3.6.3"
  }
 },
 "nbformat": 4,
 "nbformat_minor": 2
}
